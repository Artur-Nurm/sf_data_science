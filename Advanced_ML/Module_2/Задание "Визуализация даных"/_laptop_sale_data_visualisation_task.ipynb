{
 "cells": [
  {
   "cell_type": "markdown",
   "metadata": {},
   "source": [
    "# Последовательность выполнения заданий:\n",
    "\n",
    "1. Проверьте качество данных:\n",
    "    1. Проверьте типы данных колонок и приведите их к нужному типу (например, даты к типу datetime).\n",
    "    2. Проверьте наличие пропущенных значений и обработайте их (например, заполните по какому-либо принципу или удалите строки с пропущенными значениями).\n",
    "    3. Проверьте данные на наличие дубликатов, и, если необходимо, вычистите их.\n",
    "\n",
    "2. Рассчитайте основные статистические показатели для числовых переменных, такие как среднее, медиана и стандартное отклонение. Другие статистические показатели также могут быть рассчитаны в зависимости от конкретных целей и задач анализа данных. Сделайте вывод по результатам.\n",
    "\n",
    "3. Постройте графики, которые считаете наиболее релевантными для анализа данных. Графики должны быть информативными и помочь вам лучше понять данные. При необходимости введите дополнительные колонки в исходный датафрейм.\n",
    "После построения графиков проанализируйте полученные результаты и сделайте выводы (например, какие данные имеют наибольшую значимость, какие переменные влияют на результаты). Если это необходимо доработайте с данными на этом этапе.\n",
    "\n",
    "4. Вычислите матрицу корреляции и постройте heatmap для нее. Сделайте выводы о взаимосвязях, обнаруженных в данных.\n",
    "\n",
    "5. Сделайте общий вывод по исследуемому датасету. Предложите возможные способы применения полученных результатов анализа данных."
   ]
  },
  {
   "cell_type": "markdown",
   "metadata": {},
   "source": [
    "## Датасет \"Список лэптопов с параметрами для выбора\"\n",
    "\n",
    "**Контекст:**\n",
    "\n",
    "В современную цифровую эпоху ноутбуки стали важным инструментом для работы, образования и развлечений. На рынке представлено так много вариантов, что выбрать ноутбук, соответствующий вашим потребностям, может быть непросто. Flipkart, один из крупнейших в Индии веб-сайтов электронной коммерции, предлагает широкий выбор ноутбуков различных марок и ценовых категорий.\n",
    "\n",
    "**Цель:** \n",
    "\n",
    "мы хотим выпустить ноутбук, но для этого нужно понимать оптимальные параметры для него. Следовательно, основываясь на пользовательском рейтинге, нам нужно выбрать оптимальную ОС, размер хранилища и т. п.\n",
    "\n",
    "**Гипотеза:** \n",
    "\n",
    "если мы выпустим ноутбук с наиболее востребованными характеристиками, то он будет лучше продаваться.\n",
    "***\n"
   ]
  },
  {
   "cell_type": "markdown",
   "metadata": {},
   "source": [
    "### 1. Обзор и проверка качества данных\n",
    "\n",
    "**Описание:**\n",
    "Этот набор данных содержит информацию о 1000 ноутбуках, доступных на индийском сайте электронной коммерции Flipkart. \n",
    "\n",
    "Данные включают технические характеристики, такие как:\n",
    "* тип процессора - processor\n",
    "* размер оперативной памяти - ram\n",
    "* емкость жесткого диска - storage\n",
    "* размер и разрешение экрана - display(in inch)\n",
    "* операционную систему - os\n",
    "* рейтинги и отзывы клиентов - rating\n",
    "* информацию о ценах - price(in Rs.)\n",
    "\n",
    "Чтобы проверить целевую гипотезу, обозначим признак количество рейтингов (Y), как критерий популярности и результат потребительского спроса. Технические параметры ноутбуков и ценовой диапазон будут факторными признаками (Х).\n"
   ]
  },
  {
   "cell_type": "code",
   "execution_count": 1,
   "metadata": {},
   "outputs": [],
   "source": [
    "# импортируем необходимые библиотеки, сам датасет и сделаем копию\n",
    "import pandas as pd\n",
    "import seaborn as sns\n",
    "import numpy as np\n",
    "import matplotlib.pyplot as plt\n",
    "\n",
    "data = pd.read_csv('laptops.csv')\n",
    "df = data.copy()"
   ]
  },
  {
   "cell_type": "code",
   "execution_count": 2,
   "metadata": {},
   "outputs": [
    {
     "data": {
      "text/html": [
       "<div>\n",
       "<style scoped>\n",
       "    .dataframe tbody tr th:only-of-type {\n",
       "        vertical-align: middle;\n",
       "    }\n",
       "\n",
       "    .dataframe tbody tr th {\n",
       "        vertical-align: top;\n",
       "    }\n",
       "\n",
       "    .dataframe thead th {\n",
       "        text-align: right;\n",
       "    }\n",
       "</style>\n",
       "<table border=\"1\" class=\"dataframe\">\n",
       "  <thead>\n",
       "    <tr style=\"text-align: right;\">\n",
       "      <th></th>\n",
       "      <th>Unnamed: 0</th>\n",
       "      <th>img_link</th>\n",
       "      <th>name</th>\n",
       "      <th>price(in Rs.)</th>\n",
       "      <th>processor</th>\n",
       "      <th>ram</th>\n",
       "      <th>os</th>\n",
       "      <th>storage</th>\n",
       "      <th>display(in inch)</th>\n",
       "      <th>rating</th>\n",
       "      <th>no_of_ratings</th>\n",
       "      <th>no_of_reviews</th>\n",
       "    </tr>\n",
       "  </thead>\n",
       "  <tbody>\n",
       "    <tr>\n",
       "      <th>0</th>\n",
       "      <td>0</td>\n",
       "      <td>https://rukminim1.flixcart.com/image/312/312/x...</td>\n",
       "      <td>Lenovo Intel Core i5 11th Gen</td>\n",
       "      <td>62990</td>\n",
       "      <td>Intel Core i5 Processor (11th Gen)</td>\n",
       "      <td>16 GB DDR4 RAM</td>\n",
       "      <td>Windows 11 Operating System</td>\n",
       "      <td>512 GB SSD</td>\n",
       "      <td>15.6</td>\n",
       "      <td>4.5</td>\n",
       "      <td>14.0</td>\n",
       "      <td>1.0</td>\n",
       "    </tr>\n",
       "    <tr>\n",
       "      <th>1</th>\n",
       "      <td>1</td>\n",
       "      <td>https://rukminim1.flixcart.com/image/312/312/x...</td>\n",
       "      <td>Lenovo V15 G2 Core i3 11th Gen</td>\n",
       "      <td>37500</td>\n",
       "      <td>Intel Core i3 Processor (11th Gen)</td>\n",
       "      <td>8 GB DDR4 RAM</td>\n",
       "      <td>64 bit Windows 11 Operating System</td>\n",
       "      <td>1 TB HDD|256 GB SSD</td>\n",
       "      <td>15.6</td>\n",
       "      <td>4.4</td>\n",
       "      <td>53.0</td>\n",
       "      <td>3.0</td>\n",
       "    </tr>\n",
       "    <tr>\n",
       "      <th>2</th>\n",
       "      <td>2</td>\n",
       "      <td>https://rukminim1.flixcart.com/image/312/312/l...</td>\n",
       "      <td>ASUS TUF Gaming F15 Core i5 10th Gen</td>\n",
       "      <td>49990</td>\n",
       "      <td>Intel Core i5 Processor (10th Gen)</td>\n",
       "      <td>8 GB DDR4 RAM</td>\n",
       "      <td>Windows 11 Operating System</td>\n",
       "      <td>512 GB SSD</td>\n",
       "      <td>15.6</td>\n",
       "      <td>4.4</td>\n",
       "      <td>4733.0</td>\n",
       "      <td>463.0</td>\n",
       "    </tr>\n",
       "    <tr>\n",
       "      <th>3</th>\n",
       "      <td>3</td>\n",
       "      <td>https://rukminim1.flixcart.com/image/312/312/x...</td>\n",
       "      <td>ASUS VivoBook 15 (2022) Core i3 10th Gen</td>\n",
       "      <td>33990</td>\n",
       "      <td>Intel Core i3 Processor (10th Gen)</td>\n",
       "      <td>8 GB DDR4 RAM</td>\n",
       "      <td>64 bit Windows 11 Operating System</td>\n",
       "      <td>512 GB SSD</td>\n",
       "      <td>15.6</td>\n",
       "      <td>4.3</td>\n",
       "      <td>10406.0</td>\n",
       "      <td>1040.0</td>\n",
       "    </tr>\n",
       "    <tr>\n",
       "      <th>4</th>\n",
       "      <td>4</td>\n",
       "      <td>https://rukminim1.flixcart.com/image/312/312/x...</td>\n",
       "      <td>Lenovo Athlon Dual Core</td>\n",
       "      <td>18990</td>\n",
       "      <td>AMD Athlon Dual Core Processor</td>\n",
       "      <td>4 GB DDR4 RAM</td>\n",
       "      <td>DOS Operating System</td>\n",
       "      <td>256 GB SSD</td>\n",
       "      <td>14.0</td>\n",
       "      <td>3.8</td>\n",
       "      <td>18.0</td>\n",
       "      <td>3.0</td>\n",
       "    </tr>\n",
       "  </tbody>\n",
       "</table>\n",
       "</div>"
      ],
      "text/plain": [
       "   Unnamed: 0                                           img_link  \\\n",
       "0           0  https://rukminim1.flixcart.com/image/312/312/x...   \n",
       "1           1  https://rukminim1.flixcart.com/image/312/312/x...   \n",
       "2           2  https://rukminim1.flixcart.com/image/312/312/l...   \n",
       "3           3  https://rukminim1.flixcart.com/image/312/312/x...   \n",
       "4           4  https://rukminim1.flixcart.com/image/312/312/x...   \n",
       "\n",
       "                                       name  price(in Rs.)  \\\n",
       "0             Lenovo Intel Core i5 11th Gen          62990   \n",
       "1            Lenovo V15 G2 Core i3 11th Gen          37500   \n",
       "2      ASUS TUF Gaming F15 Core i5 10th Gen          49990   \n",
       "3  ASUS VivoBook 15 (2022) Core i3 10th Gen          33990   \n",
       "4                   Lenovo Athlon Dual Core          18990   \n",
       "\n",
       "                            processor             ram  \\\n",
       "0  Intel Core i5 Processor (11th Gen)  16 GB DDR4 RAM   \n",
       "1  Intel Core i3 Processor (11th Gen)   8 GB DDR4 RAM   \n",
       "2  Intel Core i5 Processor (10th Gen)   8 GB DDR4 RAM   \n",
       "3  Intel Core i3 Processor (10th Gen)   8 GB DDR4 RAM   \n",
       "4      AMD Athlon Dual Core Processor   4 GB DDR4 RAM   \n",
       "\n",
       "                                   os              storage  display(in inch)  \\\n",
       "0         Windows 11 Operating System           512 GB SSD              15.6   \n",
       "1  64 bit Windows 11 Operating System  1 TB HDD|256 GB SSD              15.6   \n",
       "2         Windows 11 Operating System           512 GB SSD              15.6   \n",
       "3  64 bit Windows 11 Operating System           512 GB SSD              15.6   \n",
       "4                DOS Operating System           256 GB SSD              14.0   \n",
       "\n",
       "   rating  no_of_ratings  no_of_reviews  \n",
       "0     4.5           14.0            1.0  \n",
       "1     4.4           53.0            3.0  \n",
       "2     4.4         4733.0          463.0  \n",
       "3     4.3        10406.0         1040.0  \n",
       "4     3.8           18.0            3.0  "
      ]
     },
     "execution_count": 2,
     "metadata": {},
     "output_type": "execute_result"
    }
   ],
   "source": [
    "# сделаем обзор данных\n",
    "df.head()"
   ]
  },
  {
   "cell_type": "markdown",
   "metadata": {},
   "source": [
    "### Задание 1.1. "
   ]
  },
  {
   "cell_type": "code",
   "execution_count": 3,
   "metadata": {},
   "outputs": [
    {
     "name": "stdout",
     "output_type": "stream",
     "text": [
      "<class 'pandas.core.frame.DataFrame'>\n",
      "RangeIndex: 984 entries, 0 to 983\n",
      "Data columns (total 12 columns):\n",
      " #   Column            Non-Null Count  Dtype  \n",
      "---  ------            --------------  -----  \n",
      " 0   Unnamed: 0        984 non-null    int64  \n",
      " 1   img_link          984 non-null    object \n",
      " 2   name              984 non-null    object \n",
      " 3   price(in Rs.)     984 non-null    int64  \n",
      " 4   processor         984 non-null    object \n",
      " 5   ram               984 non-null    object \n",
      " 6   os                984 non-null    object \n",
      " 7   storage           984 non-null    object \n",
      " 8   display(in inch)  984 non-null    float64\n",
      " 9   rating            688 non-null    float64\n",
      " 10  no_of_ratings     688 non-null    float64\n",
      " 11  no_of_reviews     688 non-null    float64\n",
      "dtypes: float64(4), int64(2), object(6)\n",
      "memory usage: 92.4+ KB\n"
     ]
    }
   ],
   "source": [
    "# сделаем обзор типов признаков и количество строк\n",
    "df.info()"
   ]
  },
  {
   "cell_type": "markdown",
   "metadata": {},
   "source": [
    "#### Выводы: \n",
    "Датасет содержит в себе 12 признаков. Максимальное количество строк 984. \n",
    "\n",
    "Все типы данных в датасете определены корректно. Преобразование типов не требуется.\n",
    "***"
   ]
  },
  {
   "cell_type": "markdown",
   "metadata": {},
   "source": [
    "### Задание 1.2. "
   ]
  },
  {
   "cell_type": "code",
   "execution_count": 4,
   "metadata": {},
   "outputs": [
    {
     "data": {
      "text/plain": [
       "Unnamed: 0            0\n",
       "img_link              0\n",
       "name                  0\n",
       "price(in Rs.)         0\n",
       "processor             0\n",
       "ram                   0\n",
       "os                    0\n",
       "storage               0\n",
       "display(in inch)      0\n",
       "rating              296\n",
       "no_of_ratings       296\n",
       "no_of_reviews       296\n",
       "dtype: int64"
      ]
     },
     "execution_count": 4,
     "metadata": {},
     "output_type": "execute_result"
    }
   ],
   "source": [
    "# посчитаем количество пропущенных данных и в каких они столбцах\n",
    "df.isnull().sum()"
   ]
  },
  {
   "cell_type": "markdown",
   "metadata": {},
   "source": [
    "#### Выводы: \n",
    "Датасет содержит 296 строк пропущенных данных в столбцах с рейтингом, количеством рейтингов и отзывов покупателей. Поскольку доля строк с пропусками составляет около 30%, то заменим их на средние значения в зависимости от бренда, размера оперативной памяти и емкости жесткого диска. Для этого сделаем следующие преобразования датасета."
   ]
  },
  {
   "cell_type": "code",
   "execution_count": 5,
   "metadata": {},
   "outputs": [],
   "source": [
    "# добавим новый признак с названием бренда\n",
    "df['brand_name'] = df['name'].apply(lambda x: x.split()[0].lower())"
   ]
  },
  {
   "cell_type": "code",
   "execution_count": 6,
   "metadata": {},
   "outputs": [],
   "source": [
    "# добавим новые признаки с типом и размером оперативной памяти\n",
    "df['ram_size'] = df['ram'].apply(lambda x: int(x.split()[0]))\n",
    "df['ram_type'] = df['ram'].apply(lambda x: x.split('GB')[1][:-4])"
   ]
  },
  {
   "cell_type": "code",
   "execution_count": 7,
   "metadata": {},
   "outputs": [
    {
     "name": "stderr",
     "output_type": "stream",
     "text": [
      "/var/folders/mn/dbx4zk2j6jn7r75_nv1cm6980000gq/T/ipykernel_95615/2655264381.py:13: FutureWarning: Columnar iteration over characters will be deprecated in future releases.\n",
      "  df['storage_A'], df['storage_B'] = df['storage'].str.split('|', n=1).str\n"
     ]
    }
   ],
   "source": [
    "# добавим новые признаки с количеством жестких дисков, наличием диска типа SSD и общей емкостью жестких дисков\n",
    "\n",
    "# исключим 2 строки некорректных данных в признаке storage через ограничение длины строки\n",
    "df = df[df['storage'].apply(lambda x: len(str(x)) < 30)]\n",
    "\n",
    "# добавим поле с количеством жестких дисков\n",
    "df['storage_count'] = df['storage'].apply(lambda x: 2 if '|' in x else 1)\n",
    "\n",
    "# добавим поле с наличием диска SSD\n",
    "df['storage_SSD'] = df['storage'].apply(lambda x: 1 if 'SSD' in x else 0)\n",
    "\n",
    "# добавим поле с размером общей памяти через сплитование признака, конвертации TB и GD и суммирование размера двух жестких дисков\n",
    "df['storage_A'], df['storage_B'] = df['storage'].str.split('|', n=1).str\n",
    "df['storage_B'].replace(np.nan, 0, inplace=True)\n",
    "size_A = df['storage_A'].apply(lambda x: int(x.split()[0]) if 'GB' in x else int(x.split()[0]) * 1024)\n",
    "size_B = df['storage_B'].apply(lambda x: int(str(x).split()[0]) if ('GB' in str(x)) and (x is not np.nan) else 0)\n",
    "df['storage_size'] = size_A + size_B"
   ]
  },
  {
   "cell_type": "code",
   "execution_count": 8,
   "metadata": {},
   "outputs": [],
   "source": [
    "# уберем лишнюю информацию из признака \"Операционная система\"\n",
    "df['os'] = df['os'].apply(lambda x: x.split('bit ')[1] if 'bit' in x else x)\n",
    "df['os'] = df['os'].str.replace('Operating System', '')"
   ]
  },
  {
   "cell_type": "code",
   "execution_count": 9,
   "metadata": {},
   "outputs": [
    {
     "name": "stderr",
     "output_type": "stream",
     "text": [
      "/var/folders/mn/dbx4zk2j6jn7r75_nv1cm6980000gq/T/ipykernel_95615/1273577164.py:3: FutureWarning: Columnar iteration over characters will be deprecated in future releases.\n",
      "  df['proc_name'], df['proc_model'] = df['processor'].str.split(' ', n=1).str\n",
      "/var/folders/mn/dbx4zk2j6jn7r75_nv1cm6980000gq/T/ipykernel_95615/1273577164.py:4: FutureWarning: Columnar iteration over characters will be deprecated in future releases.\n",
      "  df['proc_model_name'], df['proc_model_gen'] = df['proc_model'].str.split(' Processor', n=1).str\n"
     ]
    }
   ],
   "source": [
    "# разделим признак processor на бренд, модель и поколение, чтобы лучше понять \n",
    "# влияение процессора на потребительский спрос и цену\n",
    "df['proc_name'], df['proc_model'] = df['processor'].str.split(' ', n=1).str\n",
    "df['proc_model_name'], df['proc_model_gen'] = df['proc_model'].str.split(' Processor', n=1).str\n",
    "df['proc_model_gen'].replace(np.nan, 0, inplace=True)"
   ]
  },
  {
   "cell_type": "code",
   "execution_count": 10,
   "metadata": {},
   "outputs": [
    {
     "data": {
      "text/html": [
       "<div>\n",
       "<style scoped>\n",
       "    .dataframe tbody tr th:only-of-type {\n",
       "        vertical-align: middle;\n",
       "    }\n",
       "\n",
       "    .dataframe tbody tr th {\n",
       "        vertical-align: top;\n",
       "    }\n",
       "\n",
       "    .dataframe thead th {\n",
       "        text-align: right;\n",
       "    }\n",
       "</style>\n",
       "<table border=\"1\" class=\"dataframe\">\n",
       "  <thead>\n",
       "    <tr style=\"text-align: right;\">\n",
       "      <th></th>\n",
       "      <th>Unnamed: 0</th>\n",
       "      <th>img_link</th>\n",
       "      <th>name</th>\n",
       "      <th>price(in Rs.)</th>\n",
       "      <th>processor</th>\n",
       "      <th>ram</th>\n",
       "      <th>os</th>\n",
       "      <th>storage</th>\n",
       "      <th>display(in inch)</th>\n",
       "      <th>rating</th>\n",
       "      <th>...</th>\n",
       "      <th>ram_type</th>\n",
       "      <th>storage_count</th>\n",
       "      <th>storage_SSD</th>\n",
       "      <th>storage_A</th>\n",
       "      <th>storage_B</th>\n",
       "      <th>storage_size</th>\n",
       "      <th>proc_name</th>\n",
       "      <th>proc_model</th>\n",
       "      <th>proc_model_name</th>\n",
       "      <th>proc_model_gen</th>\n",
       "    </tr>\n",
       "  </thead>\n",
       "  <tbody>\n",
       "    <tr>\n",
       "      <th>0</th>\n",
       "      <td>0</td>\n",
       "      <td>https://rukminim1.flixcart.com/image/312/312/x...</td>\n",
       "      <td>Lenovo Intel Core i5 11th Gen</td>\n",
       "      <td>62990</td>\n",
       "      <td>Intel Core i5 Processor (11th Gen)</td>\n",
       "      <td>16 GB DDR4 RAM</td>\n",
       "      <td>Windows 11</td>\n",
       "      <td>512 GB SSD</td>\n",
       "      <td>15.6</td>\n",
       "      <td>4.5</td>\n",
       "      <td>...</td>\n",
       "      <td>DDR4</td>\n",
       "      <td>1</td>\n",
       "      <td>1</td>\n",
       "      <td>512 GB SSD</td>\n",
       "      <td>0</td>\n",
       "      <td>512</td>\n",
       "      <td>Intel</td>\n",
       "      <td>Core i5 Processor (11th Gen)</td>\n",
       "      <td>Core i5</td>\n",
       "      <td>(11th Gen)</td>\n",
       "    </tr>\n",
       "    <tr>\n",
       "      <th>1</th>\n",
       "      <td>1</td>\n",
       "      <td>https://rukminim1.flixcart.com/image/312/312/x...</td>\n",
       "      <td>Lenovo V15 G2 Core i3 11th Gen</td>\n",
       "      <td>37500</td>\n",
       "      <td>Intel Core i3 Processor (11th Gen)</td>\n",
       "      <td>8 GB DDR4 RAM</td>\n",
       "      <td>Windows 11</td>\n",
       "      <td>1 TB HDD|256 GB SSD</td>\n",
       "      <td>15.6</td>\n",
       "      <td>4.4</td>\n",
       "      <td>...</td>\n",
       "      <td>DDR4</td>\n",
       "      <td>2</td>\n",
       "      <td>1</td>\n",
       "      <td>1 TB HDD</td>\n",
       "      <td>256 GB SSD</td>\n",
       "      <td>1280</td>\n",
       "      <td>Intel</td>\n",
       "      <td>Core i3 Processor (11th Gen)</td>\n",
       "      <td>Core i3</td>\n",
       "      <td>(11th Gen)</td>\n",
       "    </tr>\n",
       "    <tr>\n",
       "      <th>2</th>\n",
       "      <td>2</td>\n",
       "      <td>https://rukminim1.flixcart.com/image/312/312/l...</td>\n",
       "      <td>ASUS TUF Gaming F15 Core i5 10th Gen</td>\n",
       "      <td>49990</td>\n",
       "      <td>Intel Core i5 Processor (10th Gen)</td>\n",
       "      <td>8 GB DDR4 RAM</td>\n",
       "      <td>Windows 11</td>\n",
       "      <td>512 GB SSD</td>\n",
       "      <td>15.6</td>\n",
       "      <td>4.4</td>\n",
       "      <td>...</td>\n",
       "      <td>DDR4</td>\n",
       "      <td>1</td>\n",
       "      <td>1</td>\n",
       "      <td>512 GB SSD</td>\n",
       "      <td>0</td>\n",
       "      <td>512</td>\n",
       "      <td>Intel</td>\n",
       "      <td>Core i5 Processor (10th Gen)</td>\n",
       "      <td>Core i5</td>\n",
       "      <td>(10th Gen)</td>\n",
       "    </tr>\n",
       "  </tbody>\n",
       "</table>\n",
       "<p>3 rows × 24 columns</p>\n",
       "</div>"
      ],
      "text/plain": [
       "   Unnamed: 0                                           img_link  \\\n",
       "0           0  https://rukminim1.flixcart.com/image/312/312/x...   \n",
       "1           1  https://rukminim1.flixcart.com/image/312/312/x...   \n",
       "2           2  https://rukminim1.flixcart.com/image/312/312/l...   \n",
       "\n",
       "                                   name  price(in Rs.)  \\\n",
       "0         Lenovo Intel Core i5 11th Gen          62990   \n",
       "1        Lenovo V15 G2 Core i3 11th Gen          37500   \n",
       "2  ASUS TUF Gaming F15 Core i5 10th Gen          49990   \n",
       "\n",
       "                            processor             ram           os  \\\n",
       "0  Intel Core i5 Processor (11th Gen)  16 GB DDR4 RAM  Windows 11    \n",
       "1  Intel Core i3 Processor (11th Gen)   8 GB DDR4 RAM  Windows 11    \n",
       "2  Intel Core i5 Processor (10th Gen)   8 GB DDR4 RAM  Windows 11    \n",
       "\n",
       "               storage  display(in inch)  rating  ...  ram_type  \\\n",
       "0           512 GB SSD              15.6     4.5  ...      DDR4   \n",
       "1  1 TB HDD|256 GB SSD              15.6     4.4  ...      DDR4   \n",
       "2           512 GB SSD              15.6     4.4  ...      DDR4   \n",
       "\n",
       "   storage_count storage_SSD   storage_A   storage_B  storage_size  proc_name  \\\n",
       "0              1           1  512 GB SSD           0           512      Intel   \n",
       "1              2           1    1 TB HDD  256 GB SSD          1280      Intel   \n",
       "2              1           1  512 GB SSD           0           512      Intel   \n",
       "\n",
       "                     proc_model proc_model_name  proc_model_gen  \n",
       "0  Core i5 Processor (11th Gen)         Core i5      (11th Gen)  \n",
       "1  Core i3 Processor (11th Gen)         Core i3      (11th Gen)  \n",
       "2  Core i5 Processor (10th Gen)         Core i5      (10th Gen)  \n",
       "\n",
       "[3 rows x 24 columns]"
      ]
     },
     "execution_count": 10,
     "metadata": {},
     "output_type": "execute_result"
    }
   ],
   "source": [
    "df.head(3)"
   ]
  },
  {
   "cell_type": "markdown",
   "metadata": {},
   "source": [
    "#### Выводы: \n",
    "Датасет содержит некоторые дублирующиеся или не актуальные признаки ('storage', 'storage_A', 'storage_B', 'ram', 'img_link', 'Unnamed: 0', 'no_of_reviews'), которые удалим на следующем этапе. \n",
    "***"
   ]
  },
  {
   "cell_type": "markdown",
   "metadata": {},
   "source": [
    "### Задание 1.3."
   ]
  },
  {
   "cell_type": "code",
   "execution_count": 11,
   "metadata": {},
   "outputs": [],
   "source": [
    "# удалим лишние и дублирующие признаки\n",
    "df.drop(columns=['storage', 'storage_A', 'storage_B', 'ram', 'name', 'img_link', 'Unnamed: 0', 'no_of_reviews', 'processor', 'proc_model'], inplace=True)\n",
    "# df_log\n",
    "df.drop_duplicates(inplace=True)"
   ]
  },
  {
   "cell_type": "code",
   "execution_count": 12,
   "metadata": {},
   "outputs": [
    {
     "name": "stdout",
     "output_type": "stream",
     "text": [
      "<class 'pandas.core.frame.DataFrame'>\n",
      "Int64Index: 767 entries, 0 to 983\n",
      "Data columns (total 14 columns):\n",
      " #   Column            Non-Null Count  Dtype  \n",
      "---  ------            --------------  -----  \n",
      " 0   price(in Rs.)     767 non-null    int64  \n",
      " 1   os                767 non-null    object \n",
      " 2   display(in inch)  767 non-null    float64\n",
      " 3   rating            511 non-null    float64\n",
      " 4   no_of_ratings     511 non-null    float64\n",
      " 5   brand_name        767 non-null    object \n",
      " 6   ram_size          767 non-null    int64  \n",
      " 7   ram_type          767 non-null    object \n",
      " 8   storage_count     767 non-null    int64  \n",
      " 9   storage_SSD       767 non-null    int64  \n",
      " 10  storage_size      767 non-null    int64  \n",
      " 11  proc_name         767 non-null    object \n",
      " 12  proc_model_name   767 non-null    object \n",
      " 13  proc_model_gen    767 non-null    object \n",
      "dtypes: float64(3), int64(5), object(6)\n",
      "memory usage: 89.9+ KB\n"
     ]
    }
   ],
   "source": [
    "df.info()"
   ]
  },
  {
   "cell_type": "markdown",
   "metadata": {},
   "source": [
    "#### Выводы: \n",
    "Выяснилось, что датасет содержал 217 задублированных строк, которые были удалены. Также 10 неактуальных признаков."
   ]
  },
  {
   "cell_type": "code",
   "execution_count": 13,
   "metadata": {},
   "outputs": [],
   "source": [
    "# заполним пустые значения у признака 'rating' с помощью средних значений у аналогичных моделей\n",
    "# в зависимости от бренда, размера операционной памяти и емкости жесткого диска\n",
    "df['rating'] = df['rating'].fillna(df.groupby(['brand_name', 'ram_size', 'storage_SSD'])['rating'].transform('mean'))\n",
    "df['rating'] = df['rating'].fillna(df['rating'].mean())\n",
    "\n",
    "# заполним пустые значения у признака 'no_of_ratings' с помощью средних значений, так как\n",
    "# отсутствие данных скорее всего означает не большую популярность\n",
    "df['no_of_ratings'] = df['no_of_ratings'].fillna(df['no_of_ratings'].mean())"
   ]
  },
  {
   "cell_type": "code",
   "execution_count": 14,
   "metadata": {},
   "outputs": [
    {
     "data": {
      "text/plain": [
       "0"
      ]
     },
     "execution_count": 14,
     "metadata": {},
     "output_type": "execute_result"
    }
   ],
   "source": [
    "df['rating'].isna().sum()"
   ]
  },
  {
   "cell_type": "markdown",
   "metadata": {},
   "source": [
    "#### Выводы: \n",
    "Датасет имел 258 строк с пропусками данных у признаков \"rating\" и \"no_of_ratings\". Они были заполнены средними значениями в зависимости названия бренда, размера оперативной памяти и емкости жеских дисков. В 16 случаях, когда не удалось подобрать релеватных групп, пропуски заполнены средними значениями признака по всем данным.\n",
    "***"
   ]
  },
  {
   "cell_type": "markdown",
   "metadata": {},
   "source": [
    "### Задание 2 & 3. "
   ]
  },
  {
   "cell_type": "code",
   "execution_count": 15,
   "metadata": {},
   "outputs": [
    {
     "data": {
      "text/html": [
       "<div>\n",
       "<style scoped>\n",
       "    .dataframe tbody tr th:only-of-type {\n",
       "        vertical-align: middle;\n",
       "    }\n",
       "\n",
       "    .dataframe tbody tr th {\n",
       "        vertical-align: top;\n",
       "    }\n",
       "\n",
       "    .dataframe thead th {\n",
       "        text-align: right;\n",
       "    }\n",
       "</style>\n",
       "<table border=\"1\" class=\"dataframe\">\n",
       "  <thead>\n",
       "    <tr style=\"text-align: right;\">\n",
       "      <th></th>\n",
       "      <th>price(in Rs.)</th>\n",
       "      <th>display(in inch)</th>\n",
       "      <th>rating</th>\n",
       "      <th>no_of_ratings</th>\n",
       "      <th>ram_size</th>\n",
       "      <th>storage_count</th>\n",
       "      <th>storage_SSD</th>\n",
       "      <th>storage_size</th>\n",
       "    </tr>\n",
       "  </thead>\n",
       "  <tbody>\n",
       "    <tr>\n",
       "      <th>count</th>\n",
       "      <td>767.000000</td>\n",
       "      <td>767.000000</td>\n",
       "      <td>767.000000</td>\n",
       "      <td>767.000000</td>\n",
       "      <td>767.000000</td>\n",
       "      <td>767.000000</td>\n",
       "      <td>767.000000</td>\n",
       "      <td>767.00000</td>\n",
       "    </tr>\n",
       "    <tr>\n",
       "      <th>mean</th>\n",
       "      <td>88415.462842</td>\n",
       "      <td>15.136375</td>\n",
       "      <td>4.290420</td>\n",
       "      <td>633.982387</td>\n",
       "      <td>11.911343</td>\n",
       "      <td>1.061278</td>\n",
       "      <td>0.955671</td>\n",
       "      <td>674.54498</td>\n",
       "    </tr>\n",
       "    <tr>\n",
       "      <th>std</th>\n",
       "      <td>61208.878124</td>\n",
       "      <td>1.453367</td>\n",
       "      <td>0.314019</td>\n",
       "      <td>1332.433601</td>\n",
       "      <td>6.067717</td>\n",
       "      <td>0.239996</td>\n",
       "      <td>0.205958</td>\n",
       "      <td>364.54484</td>\n",
       "    </tr>\n",
       "    <tr>\n",
       "      <th>min</th>\n",
       "      <td>15990.000000</td>\n",
       "      <td>11.600000</td>\n",
       "      <td>1.600000</td>\n",
       "      <td>1.000000</td>\n",
       "      <td>4.000000</td>\n",
       "      <td>1.000000</td>\n",
       "      <td>0.000000</td>\n",
       "      <td>128.00000</td>\n",
       "    </tr>\n",
       "    <tr>\n",
       "      <th>25%</th>\n",
       "      <td>46990.000000</td>\n",
       "      <td>14.000000</td>\n",
       "      <td>4.124490</td>\n",
       "      <td>32.500000</td>\n",
       "      <td>8.000000</td>\n",
       "      <td>1.000000</td>\n",
       "      <td>1.000000</td>\n",
       "      <td>512.00000</td>\n",
       "    </tr>\n",
       "    <tr>\n",
       "      <th>50%</th>\n",
       "      <td>68180.000000</td>\n",
       "      <td>15.600000</td>\n",
       "      <td>4.300000</td>\n",
       "      <td>413.000000</td>\n",
       "      <td>8.000000</td>\n",
       "      <td>1.000000</td>\n",
       "      <td>1.000000</td>\n",
       "      <td>512.00000</td>\n",
       "    </tr>\n",
       "    <tr>\n",
       "      <th>75%</th>\n",
       "      <td>107510.500000</td>\n",
       "      <td>15.600000</td>\n",
       "      <td>4.405357</td>\n",
       "      <td>633.982387</td>\n",
       "      <td>16.000000</td>\n",
       "      <td>1.000000</td>\n",
       "      <td>1.000000</td>\n",
       "      <td>1024.00000</td>\n",
       "    </tr>\n",
       "    <tr>\n",
       "      <th>max</th>\n",
       "      <td>419990.000000</td>\n",
       "      <td>35.000000</td>\n",
       "      <td>5.000000</td>\n",
       "      <td>15492.000000</td>\n",
       "      <td>32.000000</td>\n",
       "      <td>2.000000</td>\n",
       "      <td>1.000000</td>\n",
       "      <td>4096.00000</td>\n",
       "    </tr>\n",
       "  </tbody>\n",
       "</table>\n",
       "</div>"
      ],
      "text/plain": [
       "       price(in Rs.)  display(in inch)      rating  no_of_ratings    ram_size  \\\n",
       "count     767.000000        767.000000  767.000000     767.000000  767.000000   \n",
       "mean    88415.462842         15.136375    4.290420     633.982387   11.911343   \n",
       "std     61208.878124          1.453367    0.314019    1332.433601    6.067717   \n",
       "min     15990.000000         11.600000    1.600000       1.000000    4.000000   \n",
       "25%     46990.000000         14.000000    4.124490      32.500000    8.000000   \n",
       "50%     68180.000000         15.600000    4.300000     413.000000    8.000000   \n",
       "75%    107510.500000         15.600000    4.405357     633.982387   16.000000   \n",
       "max    419990.000000         35.000000    5.000000   15492.000000   32.000000   \n",
       "\n",
       "       storage_count  storage_SSD  storage_size  \n",
       "count     767.000000   767.000000     767.00000  \n",
       "mean        1.061278     0.955671     674.54498  \n",
       "std         0.239996     0.205958     364.54484  \n",
       "min         1.000000     0.000000     128.00000  \n",
       "25%         1.000000     1.000000     512.00000  \n",
       "50%         1.000000     1.000000     512.00000  \n",
       "75%         1.000000     1.000000    1024.00000  \n",
       "max         2.000000     1.000000    4096.00000  "
      ]
     },
     "execution_count": 15,
     "metadata": {},
     "output_type": "execute_result"
    }
   ],
   "source": [
    "df.describe()"
   ]
  },
  {
   "cell_type": "code",
   "execution_count": 16,
   "metadata": {},
   "outputs": [
    {
     "data": {
      "text/html": [
       "<div>\n",
       "<style scoped>\n",
       "    .dataframe tbody tr th:only-of-type {\n",
       "        vertical-align: middle;\n",
       "    }\n",
       "\n",
       "    .dataframe tbody tr th {\n",
       "        vertical-align: top;\n",
       "    }\n",
       "\n",
       "    .dataframe thead th {\n",
       "        text-align: right;\n",
       "    }\n",
       "</style>\n",
       "<table border=\"1\" class=\"dataframe\">\n",
       "  <thead>\n",
       "    <tr style=\"text-align: right;\">\n",
       "      <th></th>\n",
       "      <th>price(in Rs.)</th>\n",
       "      <th>os</th>\n",
       "      <th>display(in inch)</th>\n",
       "      <th>rating</th>\n",
       "      <th>no_of_ratings</th>\n",
       "      <th>brand_name</th>\n",
       "      <th>ram_size</th>\n",
       "      <th>ram_type</th>\n",
       "      <th>storage_count</th>\n",
       "      <th>storage_SSD</th>\n",
       "      <th>storage_size</th>\n",
       "      <th>proc_name</th>\n",
       "      <th>proc_model_name</th>\n",
       "      <th>proc_model_gen</th>\n",
       "    </tr>\n",
       "  </thead>\n",
       "  <tbody>\n",
       "    <tr>\n",
       "      <th>594</th>\n",
       "      <td>63090</td>\n",
       "      <td>Windows 10</td>\n",
       "      <td>35.0</td>\n",
       "      <td>3.9</td>\n",
       "      <td>89.0</td>\n",
       "      <td>dell</td>\n",
       "      <td>8</td>\n",
       "      <td>DDR4</td>\n",
       "      <td>1</td>\n",
       "      <td>1</td>\n",
       "      <td>512</td>\n",
       "      <td>Intel</td>\n",
       "      <td>Core i5</td>\n",
       "      <td>(11th Gen)</td>\n",
       "    </tr>\n",
       "    <tr>\n",
       "      <th>861</th>\n",
       "      <td>43090</td>\n",
       "      <td>Windows 11</td>\n",
       "      <td>35.0</td>\n",
       "      <td>4.2</td>\n",
       "      <td>33.0</td>\n",
       "      <td>dell</td>\n",
       "      <td>4</td>\n",
       "      <td>DDR4</td>\n",
       "      <td>2</td>\n",
       "      <td>1</td>\n",
       "      <td>1280</td>\n",
       "      <td>Intel</td>\n",
       "      <td>Core i3</td>\n",
       "      <td>(11th Gen)</td>\n",
       "    </tr>\n",
       "  </tbody>\n",
       "</table>\n",
       "</div>"
      ],
      "text/plain": [
       "     price(in Rs.)           os  display(in inch)  rating  no_of_ratings  \\\n",
       "594          63090  Windows 10               35.0     3.9           89.0   \n",
       "861          43090  Windows 11               35.0     4.2           33.0   \n",
       "\n",
       "    brand_name  ram_size ram_type  storage_count  storage_SSD  storage_size  \\\n",
       "594       dell         8     DDR4              1            1           512   \n",
       "861       dell         4     DDR4              2            1          1280   \n",
       "\n",
       "    proc_name proc_model_name proc_model_gen  \n",
       "594     Intel         Core i5     (11th Gen)  \n",
       "861     Intel         Core i3     (11th Gen)  "
      ]
     },
     "execution_count": 16,
     "metadata": {},
     "output_type": "execute_result"
    }
   ],
   "source": [
    "# В описательной статистике была обнаружена ошибка в признаке размера дисплея (мах значение 35), \n",
    "# что на самом деле означает 35 см вместо 14 дюймов.\n",
    "df[df['display(in inch)'] > 18]"
   ]
  },
  {
   "cell_type": "code",
   "execution_count": 17,
   "metadata": {},
   "outputs": [],
   "source": [
    "# заменим ошибочные значения 35 на корректные 14\n",
    "df['display(in inch)'].replace(35, 14, inplace=True)"
   ]
  },
  {
   "cell_type": "code",
   "execution_count": 18,
   "metadata": {},
   "outputs": [],
   "source": [
    "# для простоты оценки изменим тип данных у количества рейтингов с float64 на int64.\n",
    "df['no_of_ratings'] = df['no_of_ratings'].astype('int64')"
   ]
  },
  {
   "cell_type": "code",
   "execution_count": 19,
   "metadata": {},
   "outputs": [
    {
     "data": {
      "text/html": [
       "<div>\n",
       "<style scoped>\n",
       "    .dataframe tbody tr th:only-of-type {\n",
       "        vertical-align: middle;\n",
       "    }\n",
       "\n",
       "    .dataframe tbody tr th {\n",
       "        vertical-align: top;\n",
       "    }\n",
       "\n",
       "    .dataframe thead th {\n",
       "        text-align: right;\n",
       "    }\n",
       "</style>\n",
       "<table border=\"1\" class=\"dataframe\">\n",
       "  <thead>\n",
       "    <tr style=\"text-align: right;\">\n",
       "      <th></th>\n",
       "      <th>price(in Rs.)</th>\n",
       "      <th>display(in inch)</th>\n",
       "      <th>rating</th>\n",
       "      <th>no_of_ratings</th>\n",
       "      <th>ram_size</th>\n",
       "      <th>storage_count</th>\n",
       "      <th>storage_SSD</th>\n",
       "      <th>storage_size</th>\n",
       "    </tr>\n",
       "  </thead>\n",
       "  <tbody>\n",
       "    <tr>\n",
       "      <th>count</th>\n",
       "      <td>767.000000</td>\n",
       "      <td>767.000000</td>\n",
       "      <td>767.000000</td>\n",
       "      <td>767.000000</td>\n",
       "      <td>767.000000</td>\n",
       "      <td>767.000000</td>\n",
       "      <td>767.000000</td>\n",
       "      <td>767.00000</td>\n",
       "    </tr>\n",
       "    <tr>\n",
       "      <th>mean</th>\n",
       "      <td>88415.462842</td>\n",
       "      <td>15.081617</td>\n",
       "      <td>4.290420</td>\n",
       "      <td>633.654498</td>\n",
       "      <td>11.911343</td>\n",
       "      <td>1.061278</td>\n",
       "      <td>0.955671</td>\n",
       "      <td>674.54498</td>\n",
       "    </tr>\n",
       "    <tr>\n",
       "      <th>std</th>\n",
       "      <td>61208.878124</td>\n",
       "      <td>1.040410</td>\n",
       "      <td>0.314019</td>\n",
       "      <td>1332.433682</td>\n",
       "      <td>6.067717</td>\n",
       "      <td>0.239996</td>\n",
       "      <td>0.205958</td>\n",
       "      <td>364.54484</td>\n",
       "    </tr>\n",
       "    <tr>\n",
       "      <th>min</th>\n",
       "      <td>15990.000000</td>\n",
       "      <td>11.600000</td>\n",
       "      <td>1.600000</td>\n",
       "      <td>1.000000</td>\n",
       "      <td>4.000000</td>\n",
       "      <td>1.000000</td>\n",
       "      <td>0.000000</td>\n",
       "      <td>128.00000</td>\n",
       "    </tr>\n",
       "    <tr>\n",
       "      <th>25%</th>\n",
       "      <td>46990.000000</td>\n",
       "      <td>14.000000</td>\n",
       "      <td>4.124490</td>\n",
       "      <td>32.500000</td>\n",
       "      <td>8.000000</td>\n",
       "      <td>1.000000</td>\n",
       "      <td>1.000000</td>\n",
       "      <td>512.00000</td>\n",
       "    </tr>\n",
       "    <tr>\n",
       "      <th>50%</th>\n",
       "      <td>68180.000000</td>\n",
       "      <td>15.600000</td>\n",
       "      <td>4.300000</td>\n",
       "      <td>413.000000</td>\n",
       "      <td>8.000000</td>\n",
       "      <td>1.000000</td>\n",
       "      <td>1.000000</td>\n",
       "      <td>512.00000</td>\n",
       "    </tr>\n",
       "    <tr>\n",
       "      <th>75%</th>\n",
       "      <td>107510.500000</td>\n",
       "      <td>15.600000</td>\n",
       "      <td>4.405357</td>\n",
       "      <td>633.000000</td>\n",
       "      <td>16.000000</td>\n",
       "      <td>1.000000</td>\n",
       "      <td>1.000000</td>\n",
       "      <td>1024.00000</td>\n",
       "    </tr>\n",
       "    <tr>\n",
       "      <th>max</th>\n",
       "      <td>419990.000000</td>\n",
       "      <td>17.300000</td>\n",
       "      <td>5.000000</td>\n",
       "      <td>15492.000000</td>\n",
       "      <td>32.000000</td>\n",
       "      <td>2.000000</td>\n",
       "      <td>1.000000</td>\n",
       "      <td>4096.00000</td>\n",
       "    </tr>\n",
       "  </tbody>\n",
       "</table>\n",
       "</div>"
      ],
      "text/plain": [
       "       price(in Rs.)  display(in inch)      rating  no_of_ratings    ram_size  \\\n",
       "count     767.000000        767.000000  767.000000     767.000000  767.000000   \n",
       "mean    88415.462842         15.081617    4.290420     633.654498   11.911343   \n",
       "std     61208.878124          1.040410    0.314019    1332.433682    6.067717   \n",
       "min     15990.000000         11.600000    1.600000       1.000000    4.000000   \n",
       "25%     46990.000000         14.000000    4.124490      32.500000    8.000000   \n",
       "50%     68180.000000         15.600000    4.300000     413.000000    8.000000   \n",
       "75%    107510.500000         15.600000    4.405357     633.000000   16.000000   \n",
       "max    419990.000000         17.300000    5.000000   15492.000000   32.000000   \n",
       "\n",
       "       storage_count  storage_SSD  storage_size  \n",
       "count     767.000000   767.000000     767.00000  \n",
       "mean        1.061278     0.955671     674.54498  \n",
       "std         0.239996     0.205958     364.54484  \n",
       "min         1.000000     0.000000     128.00000  \n",
       "25%         1.000000     1.000000     512.00000  \n",
       "50%         1.000000     1.000000     512.00000  \n",
       "75%         1.000000     1.000000    1024.00000  \n",
       "max         2.000000     1.000000    4096.00000  "
      ]
     },
     "execution_count": 19,
     "metadata": {},
     "output_type": "execute_result"
    }
   ],
   "source": [
    "df.describe()"
   ]
  },
  {
   "cell_type": "markdown",
   "metadata": {},
   "source": [
    "#### Выводы: \n",
    "1. Описательная статистика датасета показывает, что есть сильные выбросы по цене, рейтингу (значит есть модели, которые сильно популярны). По размеру дисплея выявлена ошибка данных (см.ниже).\n",
    "2. Имеется сильное отклонение между средней (88615) и медианной (68235) ценой, о чем также подтверждает высокое средне квадратическое отклонение (61238). Это связанано также с брендом и особенностями ноутбуков (например, материал корпуска и премиальные фичи, которые не учтены в датасете)\n",
    "3. Наиболее часто продаваемые модели имеют следующие характеристики:\n",
    "    - размер дисплея 15,6 дюймов\n",
    "    - размер оперативной памяти 8 GB\n",
    "    - один жесткий диск типа SSD и емкостью 512 GB"
   ]
  },
  {
   "cell_type": "code",
   "execution_count": 20,
   "metadata": {},
   "outputs": [],
   "source": [
    "# создадим функцию для построения графика рассеивания, который визуализирует количество рейтингов и\n",
    "# их средние значения в зависимости от категориальных признаков\n",
    "\n",
    "def feature_plot(feature, data=df, x='rating', y='no_of_ratings'):\n",
    "    feature_means = data.groupby(feature)[x].mean()\n",
    "    feature_no_ratings = data.groupby(feature)[y].sum()\n",
    "    feature_plot = sns.scatterplot(x=feature_means, y=feature_no_ratings)\n",
    "\n",
    "    for i in range(feature_means.shape[0]):\n",
    "        feature_plot.text(feature_means[i]+0.01, feature_no_ratings[i],\n",
    "        feature_means.index[i], horizontalalignment='left',\n",
    "        size='medium', color='black')\n",
    "\n",
    "    feature_max_no_rating = feature_no_ratings.max()\n",
    "    best_feature_name = feature_means[feature_no_ratings == feature_max_no_rating].index[0]\n",
    "    feature_rating = feature_means[feature_no_ratings == feature_max_no_rating][0].round(2)\n",
    "    print(f'Number of ratings of {best_feature_name} is {feature_max_no_rating}, average rating is {feature_rating}')"
   ]
  },
  {
   "cell_type": "code",
   "execution_count": 21,
   "metadata": {},
   "outputs": [
    {
     "name": "stdout",
     "output_type": "stream",
     "text": [
      "Number of ratings of asus is 135315, average rating is 4.35\n"
     ]
    },
    {
     "data": {
      "image/png": "[encoded data removed]",
      "text/plain": [
       "<Figure size 640x480 with 1 Axes>"
      ]
     },
     "metadata": {},
     "output_type": "display_data"
    }
   ],
   "source": [
    "feature_plot('brand_name')"
   ]
  },
  {
   "cell_type": "code",
   "execution_count": 22,
   "metadata": {},
   "outputs": [
    {
     "data": {
      "text/plain": [
       "4.25"
      ]
     },
     "execution_count": 22,
     "metadata": {},
     "output_type": "execute_result"
    }
   ],
   "source": [
    "round(df.groupby('brand_name')['rating'].mean().loc['hp'], 2)"
   ]
  },
  {
   "cell_type": "code",
   "execution_count": 23,
   "metadata": {},
   "outputs": [
    {
     "data": {
      "text/plain": [
       "112854"
      ]
     },
     "execution_count": 23,
     "metadata": {},
     "output_type": "execute_result"
    }
   ],
   "source": [
    "df.groupby('brand_name')['no_of_ratings'].sum().loc['hp']"
   ]
  },
  {
   "cell_type": "markdown",
   "metadata": {},
   "source": [
    "#### Вывод: \n",
    "\n",
    "**Целевая конфигурация ноутбука должна иметь качество, дизайн и функционал, похожие на Asus или HP, поскольку эти самые востребованные бренды ноутбуков (125K+ и 112К отзывов) с рейтингом (4.35 и 4.25) выше среднего (4.29) и медианного (4.3).**\n"
   ]
  },
  {
   "cell_type": "code",
   "execution_count": 24,
   "metadata": {},
   "outputs": [
    {
     "name": "stdout",
     "output_type": "stream",
     "text": [
      "Number of ratings of Intel is 288910, average rating is 4.24\n"
     ]
    },
    {
     "data": {
      "image/png": "[encoded data removed]",
      "text/plain": [
       "<Figure size 640x480 with 1 Axes>"
      ]
     },
     "metadata": {},
     "output_type": "display_data"
    }
   ],
   "source": [
    "feature_plot('proc_name')"
   ]
  },
  {
   "cell_type": "markdown",
   "metadata": {},
   "source": [
    "#### Вывод: \n",
    "\n",
    "**Целевая конфигурация ноутбука должна иметь процессор Intel, поскольку это самый востребованный процессор (271K+ отзывов) с рейтингом (4.24) близко к среднему (4.29) и медианному (4.3). Рейтинг у ближайшего конкурентов AMD выше незначительно (4.35), но спрос почти в 2 раза ниже.**"
   ]
  },
  {
   "cell_type": "code",
   "execution_count": 25,
   "metadata": {},
   "outputs": [
    {
     "name": "stdout",
     "output_type": "stream",
     "text": [
      "Number of ratings of Core i5 is 117401, average rating is 4.24\n"
     ]
    },
    {
     "data": {
      "image/png": "[encoded data removed]",
      "text/plain": [
       "<Figure size 640x480 with 1 Axes>"
      ]
     },
     "metadata": {},
     "output_type": "display_data"
    }
   ],
   "source": [
    "proc_df = df[df['proc_name'] == 'Intel']\n",
    "feature_plot('proc_model_name', data=proc_df)"
   ]
  },
  {
   "cell_type": "markdown",
   "metadata": {},
   "source": [
    "#### Вывод: \n",
    "\n",
    "**Целевая конфигурация ноутбука должна иметь процессор Intel модель Core i5 или лучше (Core i7, Core i9 с более высокими рейтингами), поскольку это самая востребованная модель процессора Intel (107K+ отзывов) с рейтингом (4.24) близко к среднему (4.29) и медианному (4.3).**"
   ]
  },
  {
   "cell_type": "code",
   "execution_count": 26,
   "metadata": {},
   "outputs": [
    {
     "name": "stdout",
     "output_type": "stream",
     "text": [
      "Number of ratings of  (12th Gen) is 34882, average rating is 4.27\n"
     ]
    },
    {
     "data": {
      "image/png": "[encoded data removed]",
      "text/plain": [
       "<Figure size 640x480 with 1 Axes>"
      ]
     },
     "metadata": {},
     "output_type": "display_data"
    }
   ],
   "source": [
    "gen_df = df[(df['proc_name'] == 'Intel') & (df['proc_model_name'] == 'Core i5')]\n",
    "feature_plot('proc_model_gen', data=gen_df)"
   ]
  },
  {
   "cell_type": "markdown",
   "metadata": {},
   "source": [
    "#### Вывод:\n",
    "\n",
    "**Целевая конфигурация ноутбука должна иметь процессор Intel Core i5 10-го поколения или новее (11, 12), поскольку они самые востребованные поколения процессора (32K+ отзывов) с рейтингом (4.26) близко к среднему (4.29) и медианному (4.3).**"
   ]
  },
  {
   "cell_type": "code",
   "execution_count": 27,
   "metadata": {},
   "outputs": [
    {
     "name": "stdout",
     "output_type": "stream",
     "text": [
      "Number of ratings of Windows 11  is 266523, average rating is 4.3\n"
     ]
    },
    {
     "data": {
      "image/png": "[encoded data removed]",
      "text/plain": [
       "<Figure size 640x480 with 1 Axes>"
      ]
     },
     "metadata": {},
     "output_type": "display_data"
    }
   ],
   "source": [
    "feature_plot('os')"
   ]
  },
  {
   "cell_type": "markdown",
   "metadata": {},
   "source": [
    "#### Вывод:\n",
    "\n",
    "**На целевой конфигурации ноутбука должна быть установлена операционная система Windows 11 (или 10), поскольку она самая востребованная версия операционной системы (250K+ отзывов) с рейтингом (4.3) равен среднему (4.29) и медианному (4.3).**"
   ]
  },
  {
   "cell_type": "markdown",
   "metadata": {},
   "source": [
    "### Задание 4. "
   ]
  },
  {
   "cell_type": "code",
   "execution_count": 28,
   "metadata": {},
   "outputs": [
    {
     "name": "stderr",
     "output_type": "stream",
     "text": [
      "/var/folders/mn/dbx4zk2j6jn7r75_nv1cm6980000gq/T/ipykernel_95615/1524431984.py:1: FutureWarning: The default value of numeric_only in DataFrame.corr is deprecated. In a future version, it will default to False. Select only valid columns or specify the value of numeric_only to silence this warning.\n",
      "  df.corr().round(2)\n"
     ]
    },
    {
     "data": {
      "text/html": [
       "<div>\n",
       "<style scoped>\n",
       "    .dataframe tbody tr th:only-of-type {\n",
       "        vertical-align: middle;\n",
       "    }\n",
       "\n",
       "    .dataframe tbody tr th {\n",
       "        vertical-align: top;\n",
       "    }\n",
       "\n",
       "    .dataframe thead th {\n",
       "        text-align: right;\n",
       "    }\n",
       "</style>\n",
       "<table border=\"1\" class=\"dataframe\">\n",
       "  <thead>\n",
       "    <tr style=\"text-align: right;\">\n",
       "      <th></th>\n",
       "      <th>price(in Rs.)</th>\n",
       "      <th>display(in inch)</th>\n",
       "      <th>rating</th>\n",
       "      <th>no_of_ratings</th>\n",
       "      <th>ram_size</th>\n",
       "      <th>storage_count</th>\n",
       "      <th>storage_SSD</th>\n",
       "      <th>storage_size</th>\n",
       "    </tr>\n",
       "  </thead>\n",
       "  <tbody>\n",
       "    <tr>\n",
       "      <th>price(in Rs.)</th>\n",
       "      <td>1.00</td>\n",
       "      <td>0.18</td>\n",
       "      <td>0.34</td>\n",
       "      <td>-0.08</td>\n",
       "      <td>0.76</td>\n",
       "      <td>-0.08</td>\n",
       "      <td>0.14</td>\n",
       "      <td>0.53</td>\n",
       "    </tr>\n",
       "    <tr>\n",
       "      <th>display(in inch)</th>\n",
       "      <td>0.18</td>\n",
       "      <td>1.00</td>\n",
       "      <td>0.07</td>\n",
       "      <td>-0.05</td>\n",
       "      <td>0.21</td>\n",
       "      <td>0.04</td>\n",
       "      <td>0.03</td>\n",
       "      <td>0.22</td>\n",
       "    </tr>\n",
       "    <tr>\n",
       "      <th>rating</th>\n",
       "      <td>0.34</td>\n",
       "      <td>0.07</td>\n",
       "      <td>1.00</td>\n",
       "      <td>0.05</td>\n",
       "      <td>0.34</td>\n",
       "      <td>-0.06</td>\n",
       "      <td>0.29</td>\n",
       "      <td>0.05</td>\n",
       "    </tr>\n",
       "    <tr>\n",
       "      <th>no_of_ratings</th>\n",
       "      <td>-0.08</td>\n",
       "      <td>-0.05</td>\n",
       "      <td>0.05</td>\n",
       "      <td>1.00</td>\n",
       "      <td>-0.11</td>\n",
       "      <td>-0.01</td>\n",
       "      <td>-0.09</td>\n",
       "      <td>-0.03</td>\n",
       "    </tr>\n",
       "    <tr>\n",
       "      <th>ram_size</th>\n",
       "      <td>0.76</td>\n",
       "      <td>0.21</td>\n",
       "      <td>0.34</td>\n",
       "      <td>-0.11</td>\n",
       "      <td>1.00</td>\n",
       "      <td>-0.10</td>\n",
       "      <td>0.18</td>\n",
       "      <td>0.42</td>\n",
       "    </tr>\n",
       "    <tr>\n",
       "      <th>storage_count</th>\n",
       "      <td>-0.08</td>\n",
       "      <td>0.04</td>\n",
       "      <td>-0.06</td>\n",
       "      <td>-0.01</td>\n",
       "      <td>-0.10</td>\n",
       "      <td>1.00</td>\n",
       "      <td>0.06</td>\n",
       "      <td>0.40</td>\n",
       "    </tr>\n",
       "    <tr>\n",
       "      <th>storage_SSD</th>\n",
       "      <td>0.14</td>\n",
       "      <td>0.03</td>\n",
       "      <td>0.29</td>\n",
       "      <td>-0.09</td>\n",
       "      <td>0.18</td>\n",
       "      <td>0.06</td>\n",
       "      <td>1.00</td>\n",
       "      <td>-0.21</td>\n",
       "    </tr>\n",
       "    <tr>\n",
       "      <th>storage_size</th>\n",
       "      <td>0.53</td>\n",
       "      <td>0.22</td>\n",
       "      <td>0.05</td>\n",
       "      <td>-0.03</td>\n",
       "      <td>0.42</td>\n",
       "      <td>0.40</td>\n",
       "      <td>-0.21</td>\n",
       "      <td>1.00</td>\n",
       "    </tr>\n",
       "  </tbody>\n",
       "</table>\n",
       "</div>"
      ],
      "text/plain": [
       "                  price(in Rs.)  display(in inch)  rating  no_of_ratings  \\\n",
       "price(in Rs.)              1.00              0.18    0.34          -0.08   \n",
       "display(in inch)           0.18              1.00    0.07          -0.05   \n",
       "rating                     0.34              0.07    1.00           0.05   \n",
       "no_of_ratings             -0.08             -0.05    0.05           1.00   \n",
       "ram_size                   0.76              0.21    0.34          -0.11   \n",
       "storage_count             -0.08              0.04   -0.06          -0.01   \n",
       "storage_SSD                0.14              0.03    0.29          -0.09   \n",
       "storage_size               0.53              0.22    0.05          -0.03   \n",
       "\n",
       "                  ram_size  storage_count  storage_SSD  storage_size  \n",
       "price(in Rs.)         0.76          -0.08         0.14          0.53  \n",
       "display(in inch)      0.21           0.04         0.03          0.22  \n",
       "rating                0.34          -0.06         0.29          0.05  \n",
       "no_of_ratings        -0.11          -0.01        -0.09         -0.03  \n",
       "ram_size              1.00          -0.10         0.18          0.42  \n",
       "storage_count        -0.10           1.00         0.06          0.40  \n",
       "storage_SSD           0.18           0.06         1.00         -0.21  \n",
       "storage_size          0.42           0.40        -0.21          1.00  "
      ]
     },
     "execution_count": 28,
     "metadata": {},
     "output_type": "execute_result"
    }
   ],
   "source": [
    "df.corr().round(2)"
   ]
  },
  {
   "cell_type": "markdown",
   "metadata": {},
   "source": []
  },
  {
   "cell_type": "code",
   "execution_count": 49,
   "metadata": {},
   "outputs": [
    {
     "name": "stderr",
     "output_type": "stream",
     "text": [
      "/var/folders/mn/dbx4zk2j6jn7r75_nv1cm6980000gq/T/ipykernel_95615/2835802517.py:2: FutureWarning: The default value of numeric_only in DataFrame.corr is deprecated. In a future version, it will default to False. Select only valid columns or specify the value of numeric_only to silence this warning.\n",
      "  df_corr = df.corr()\n"
     ]
    },
    {
     "data": {
      "text/plain": [
       "<Axes: >"
      ]
     },
     "execution_count": 49,
     "metadata": {},
     "output_type": "execute_result"
    },
    {
     "data": {
      "image/png": "[encoded data removed]",
      "text/plain": [
       "<Figure size 1500x500 with 2 Axes>"
      ]
     },
     "metadata": {},
     "output_type": "display_data"
    }
   ],
   "source": [
    "fig, ax = plt.subplots(figsize=(15,5))\n",
    "df_corr = df.corr()\n",
    "sns.heatmap(df_corr, cmap=\"OrRd\", annot=True, fmt='.2f', annot_kws={'size': 14}, mask=np.triu(df_corr))"
   ]
  },
  {
   "cell_type": "markdown",
   "metadata": {},
   "source": [
    "#### Вывод:\n",
    "\n",
    "На heatmap мы видим, что существуют более сильные связи между:\n",
    "1. объемом оперативной памяти и ценой (0.76), что очевидно\n",
    "2. емкостью жесткого диска и ценой (0.53), что очевидно\n",
    "3. емкостью жесткого диска с количеством дисков и емкостью памяти (0.40, 0.42)\n",
    "4. рейтинги зависят относительно слабо от размера операционной памяти (0.34) и SSD диска (0.29).\n",
    "\n",
    "Остальные взаимосвязи выражены слабо, особенн околичество рейтингов. Была также произведена оценка корреляции с категориальными признаками через функцию get_dummies, но ничего явного и важного не было выявлено."
   ]
  },
  {
   "cell_type": "code",
   "execution_count": 31,
   "metadata": {},
   "outputs": [
    {
     "data": {
      "text/plain": [
       "<Axes: xlabel='price(in Rs.)', ylabel='no_of_ratings'>"
      ]
     },
     "execution_count": 31,
     "metadata": {},
     "output_type": "execute_result"
    },
    {
     "data": {
      "image/png": "[encoded data removed]",
      "text/plain": [
       "<Figure size 640x480 with 1 Axes>"
      ]
     },
     "metadata": {},
     "output_type": "display_data"
    }
   ],
   "source": [
    "sns.scatterplot(df, x='price(in Rs.)', y='no_of_ratings')"
   ]
  },
  {
   "cell_type": "markdown",
   "metadata": {},
   "source": [
    "#### Вывод:\n",
    "\n",
    "На граффике рассеяния мы видим, что есть несколько сильно популярных моделей с количеством пользовательских оценок. Рассмотрим их далее, чтобы понять причины их популярности.  "
   ]
  },
  {
   "cell_type": "code",
   "execution_count": 52,
   "metadata": {},
   "outputs": [
    {
     "data": {
      "text/html": [
       "<div>\n",
       "<style scoped>\n",
       "    .dataframe tbody tr th:only-of-type {\n",
       "        vertical-align: middle;\n",
       "    }\n",
       "\n",
       "    .dataframe tbody tr th {\n",
       "        vertical-align: top;\n",
       "    }\n",
       "\n",
       "    .dataframe thead th {\n",
       "        text-align: right;\n",
       "    }\n",
       "</style>\n",
       "<table border=\"1\" class=\"dataframe\">\n",
       "  <thead>\n",
       "    <tr style=\"text-align: right;\">\n",
       "      <th></th>\n",
       "      <th>price(in Rs.)</th>\n",
       "      <th>os</th>\n",
       "      <th>display(in inch)</th>\n",
       "      <th>rating</th>\n",
       "      <th>no_of_ratings</th>\n",
       "      <th>brand_name</th>\n",
       "      <th>ram_size</th>\n",
       "      <th>ram_type</th>\n",
       "      <th>storage_count</th>\n",
       "      <th>storage_SSD</th>\n",
       "      <th>storage_size</th>\n",
       "      <th>proc_name</th>\n",
       "      <th>proc_model_name</th>\n",
       "      <th>proc_model_gen</th>\n",
       "    </tr>\n",
       "  </thead>\n",
       "  <tbody>\n",
       "    <tr>\n",
       "      <th>269</th>\n",
       "      <td>54990</td>\n",
       "      <td>Windows 10</td>\n",
       "      <td>15.6</td>\n",
       "      <td>4.2</td>\n",
       "      <td>15492</td>\n",
       "      <td>hp</td>\n",
       "      <td>8</td>\n",
       "      <td>DDR4</td>\n",
       "      <td>1</td>\n",
       "      <td>0</td>\n",
       "      <td>1024</td>\n",
       "      <td>AMD</td>\n",
       "      <td>Ryzen 5 Quad Core</td>\n",
       "      <td></td>\n",
       "    </tr>\n",
       "    <tr>\n",
       "      <th>15</th>\n",
       "      <td>46990</td>\n",
       "      <td>Windows 10</td>\n",
       "      <td>14.0</td>\n",
       "      <td>4.4</td>\n",
       "      <td>12584</td>\n",
       "      <td>realme</td>\n",
       "      <td>8</td>\n",
       "      <td>DDR4</td>\n",
       "      <td>1</td>\n",
       "      <td>1</td>\n",
       "      <td>256</td>\n",
       "      <td>Intel</td>\n",
       "      <td>Core i3</td>\n",
       "      <td>(11th Gen)</td>\n",
       "    </tr>\n",
       "    <tr>\n",
       "      <th>667</th>\n",
       "      <td>56000</td>\n",
       "      <td>Windows 10</td>\n",
       "      <td>15.6</td>\n",
       "      <td>4.4</td>\n",
       "      <td>12223</td>\n",
       "      <td>hp</td>\n",
       "      <td>8</td>\n",
       "      <td>DDR4</td>\n",
       "      <td>1</td>\n",
       "      <td>1</td>\n",
       "      <td>512</td>\n",
       "      <td>AMD</td>\n",
       "      <td>Ryzen 5 Hexa Core</td>\n",
       "      <td></td>\n",
       "    </tr>\n",
       "    <tr>\n",
       "      <th>3</th>\n",
       "      <td>33990</td>\n",
       "      <td>Windows 11</td>\n",
       "      <td>15.6</td>\n",
       "      <td>4.3</td>\n",
       "      <td>10406</td>\n",
       "      <td>asus</td>\n",
       "      <td>8</td>\n",
       "      <td>DDR4</td>\n",
       "      <td>1</td>\n",
       "      <td>1</td>\n",
       "      <td>512</td>\n",
       "      <td>Intel</td>\n",
       "      <td>Core i3</td>\n",
       "      <td>(10th Gen)</td>\n",
       "    </tr>\n",
       "  </tbody>\n",
       "</table>\n",
       "</div>"
      ],
      "text/plain": [
       "     price(in Rs.)           os  display(in inch)  rating  no_of_ratings  \\\n",
       "269          54990  Windows 10               15.6     4.2          15492   \n",
       "15           46990  Windows 10               14.0     4.4          12584   \n",
       "667          56000  Windows 10               15.6     4.4          12223   \n",
       "3            33990  Windows 11               15.6     4.3          10406   \n",
       "\n",
       "    brand_name  ram_size ram_type  storage_count  storage_SSD  storage_size  \\\n",
       "269         hp         8     DDR4              1            0          1024   \n",
       "15      realme         8     DDR4              1            1           256   \n",
       "667         hp         8     DDR4              1            1           512   \n",
       "3         asus         8     DDR4              1            1           512   \n",
       "\n",
       "    proc_name    proc_model_name proc_model_gen  \n",
       "269       AMD  Ryzen 5 Quad Core                 \n",
       "15      Intel            Core i3     (11th Gen)  \n",
       "667       AMD  Ryzen 5 Hexa Core                 \n",
       "3       Intel            Core i3     (10th Gen)  "
      ]
     },
     "execution_count": 52,
     "metadata": {},
     "output_type": "execute_result"
    }
   ],
   "source": [
    "df[df['no_of_ratings'] >= 10000].head().sort_values(by='no_of_ratings', ascending=False)"
   ]
  },
  {
   "cell_type": "markdown",
   "metadata": {},
   "source": [
    "#### Вывод:\n",
    "\n",
    "1. Модели от НР выделяются тем, что они относятся к категории игровых ноутбуков. Поэтому их дизайн и мощная видеокарта сфокусированы на высокую производительность компьютерных игр.\n",
    "2. Популяронсть ноутбука Realme вызвана дизайном (аллюминиевый плоский корпус) и экраной высокого качества изображения (IPS-матрица с разрешением 2К)"
   ]
  },
  {
   "cell_type": "markdown",
   "metadata": {},
   "source": [
    "### Задание 5. \n",
    "\n",
    "**В результате анализа датасета мы подтвердили гипотезу, что если мы выпустим ноутбук с наиболее востребованными характеристиками, то он будет лучше продаваться. Продажи оценивались через количество рейтингов и удовлетворенностью пользователей посредством средних оценок**\n",
    "\n",
    "**Есть две стратегии достижения цели:**\n",
    "1. **выпустить ноутбук с оптимальными параметрами, который будет ориентирован на массового пользователя и максимально закроет их потребности. Такой ноутбука должен иметь:**\n",
    "```\n",
    "    - размер дисплея 15,6 дюймов\n",
    "    - размер оперативной памяти 8 GB\n",
    "    - один жесткий диск типа SSD емкостью 512 GB\n",
    "    - качество, дизайн и функционал, как у ноутбуков Asus\n",
    "    - процессор Intel Core i5 10-го поколения или лучше (Core i7, Core i9 поколений 11 или 12)\n",
    "    - установлена операционная система Windows 11 (или 10) \n",
    "```\n",
    "2. **выпускить ноутбук, который будет нацелен на одну из целевых аудиторий: геймеры или бизнес-люди. Для них целевой ноутбук должен обладать дизайном и техническими параметрами, копирующие модели конкурентов, лидеров этих сегментов: HP Pavillion Gaming, Realme Slim Book. При этом наш ноутбук должен иметь заметно более полезные свойства и более производительные мощности.**"
   ]
  },
  {
   "cell_type": "markdown",
   "metadata": {},
   "source": []
  }
 ],
 "metadata": {
  "kernelspec": {
   "display_name": "base",
   "language": "python",
   "name": "python3"
  },
  "language_info": {
   "codemirror_mode": {
    "name": "ipython",
    "version": 3
   },
   "file_extension": ".py",
   "mimetype": "text/x-python",
   "name": "python",
   "nbconvert_exporter": "python",
   "pygments_lexer": "ipython3",
   "version": "3.10.9"
  }
 },
 "nbformat": 4,
 "nbformat_minor": 2
}
