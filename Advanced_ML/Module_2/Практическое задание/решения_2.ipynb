{
 "cells": [
  {
   "cell_type": "code",
   "execution_count": 1,
   "metadata": {},
   "outputs": [],
   "source": [
    "import pandas as pd\n",
    "import matplotlib.pyplot as plt\n",
    "\n",
    "data = pd.read_csv('Electric Car.csv', sep=',')"
   ]
  },
  {
   "cell_type": "code",
   "execution_count": 2,
   "metadata": {},
   "outputs": [],
   "source": [
    "df = data.copy()"
   ]
  },
  {
   "cell_type": "code",
   "execution_count": 79,
   "metadata": {},
   "outputs": [
    {
     "name": "stdout",
     "output_type": "stream",
     "text": [
      "<class 'pandas.core.frame.DataFrame'>\n",
      "RangeIndex: 103 entries, 0 to 102\n",
      "Data columns (total 14 columns):\n",
      " #   Column           Non-Null Count  Dtype  \n",
      "---  ------           --------------  -----  \n",
      " 0   Brand            103 non-null    object \n",
      " 1   Model            103 non-null    object \n",
      " 2   AccelSec         103 non-null    float64\n",
      " 3   TopSpeed_KmH     103 non-null    int64  \n",
      " 4   Range_Km         103 non-null    int64  \n",
      " 5   Efficiency_WhKm  103 non-null    int64  \n",
      " 6   FastCharge_KmH   103 non-null    object \n",
      " 7   RapidCharge      103 non-null    object \n",
      " 8   PowerTrain       103 non-null    object \n",
      " 9   PlugType         103 non-null    object \n",
      " 10  BodyStyle        103 non-null    object \n",
      " 11  Segment          103 non-null    object \n",
      " 12  Seats            103 non-null    int64  \n",
      " 13  PriceEuro        103 non-null    int64  \n",
      "dtypes: float64(1), int64(5), object(8)\n",
      "memory usage: 11.4+ KB\n"
     ]
    }
   ],
   "source": [
    "df.info()"
   ]
  },
  {
   "cell_type": "code",
   "execution_count": 12,
   "metadata": {},
   "outputs": [
    {
     "data": {
      "text/html": [
       "<div>\n",
       "<style scoped>\n",
       "    .dataframe tbody tr th:only-of-type {\n",
       "        vertical-align: middle;\n",
       "    }\n",
       "\n",
       "    .dataframe tbody tr th {\n",
       "        vertical-align: top;\n",
       "    }\n",
       "\n",
       "    .dataframe thead th {\n",
       "        text-align: right;\n",
       "    }\n",
       "</style>\n",
       "<table border=\"1\" class=\"dataframe\">\n",
       "  <thead>\n",
       "    <tr style=\"text-align: right;\">\n",
       "      <th></th>\n",
       "      <th>Brand</th>\n",
       "      <th>Model</th>\n",
       "      <th>AccelSec</th>\n",
       "      <th>TopSpeed_KmH</th>\n",
       "      <th>Range_Km</th>\n",
       "      <th>Efficiency_WhKm</th>\n",
       "      <th>FastCharge_KmH</th>\n",
       "      <th>RapidCharge</th>\n",
       "      <th>PowerTrain</th>\n",
       "      <th>PlugType</th>\n",
       "      <th>BodyStyle</th>\n",
       "      <th>Segment</th>\n",
       "      <th>Seats</th>\n",
       "      <th>PriceEuro</th>\n",
       "    </tr>\n",
       "  </thead>\n",
       "  <tbody>\n",
       "    <tr>\n",
       "      <th>0</th>\n",
       "      <td>Tesla</td>\n",
       "      <td>Model 3 Long Range Dual Motor</td>\n",
       "      <td>4.6</td>\n",
       "      <td>233</td>\n",
       "      <td>450</td>\n",
       "      <td>161</td>\n",
       "      <td>940</td>\n",
       "      <td>Yes</td>\n",
       "      <td>AWD</td>\n",
       "      <td>Type 2 CCS</td>\n",
       "      <td>Sedan</td>\n",
       "      <td>D</td>\n",
       "      <td>5</td>\n",
       "      <td>55480</td>\n",
       "    </tr>\n",
       "    <tr>\n",
       "      <th>1</th>\n",
       "      <td>Volkswagen</td>\n",
       "      <td>ID.3 Pure</td>\n",
       "      <td>10.0</td>\n",
       "      <td>160</td>\n",
       "      <td>270</td>\n",
       "      <td>167</td>\n",
       "      <td>250</td>\n",
       "      <td>Yes</td>\n",
       "      <td>RWD</td>\n",
       "      <td>Type 2 CCS</td>\n",
       "      <td>Hatchback</td>\n",
       "      <td>C</td>\n",
       "      <td>5</td>\n",
       "      <td>30000</td>\n",
       "    </tr>\n",
       "    <tr>\n",
       "      <th>2</th>\n",
       "      <td>Polestar</td>\n",
       "      <td>2</td>\n",
       "      <td>4.7</td>\n",
       "      <td>210</td>\n",
       "      <td>400</td>\n",
       "      <td>181</td>\n",
       "      <td>620</td>\n",
       "      <td>Yes</td>\n",
       "      <td>AWD</td>\n",
       "      <td>Type 2 CCS</td>\n",
       "      <td>Liftback</td>\n",
       "      <td>D</td>\n",
       "      <td>5</td>\n",
       "      <td>56440</td>\n",
       "    </tr>\n",
       "    <tr>\n",
       "      <th>3</th>\n",
       "      <td>BMW</td>\n",
       "      <td>iX3</td>\n",
       "      <td>6.8</td>\n",
       "      <td>180</td>\n",
       "      <td>360</td>\n",
       "      <td>206</td>\n",
       "      <td>560</td>\n",
       "      <td>Yes</td>\n",
       "      <td>RWD</td>\n",
       "      <td>Type 2 CCS</td>\n",
       "      <td>SUV</td>\n",
       "      <td>D</td>\n",
       "      <td>5</td>\n",
       "      <td>68040</td>\n",
       "    </tr>\n",
       "    <tr>\n",
       "      <th>4</th>\n",
       "      <td>Honda</td>\n",
       "      <td>e</td>\n",
       "      <td>9.5</td>\n",
       "      <td>145</td>\n",
       "      <td>170</td>\n",
       "      <td>168</td>\n",
       "      <td>190</td>\n",
       "      <td>Yes</td>\n",
       "      <td>RWD</td>\n",
       "      <td>Type 2 CCS</td>\n",
       "      <td>Hatchback</td>\n",
       "      <td>B</td>\n",
       "      <td>4</td>\n",
       "      <td>32997</td>\n",
       "    </tr>\n",
       "  </tbody>\n",
       "</table>\n",
       "</div>"
      ],
      "text/plain": [
       "         Brand                          Model  AccelSec  TopSpeed_KmH  \\\n",
       "0       Tesla   Model 3 Long Range Dual Motor       4.6           233   \n",
       "1  Volkswagen                       ID.3 Pure      10.0           160   \n",
       "2    Polestar                               2       4.7           210   \n",
       "3         BMW                            iX3        6.8           180   \n",
       "4       Honda                              e        9.5           145   \n",
       "\n",
       "   Range_Km  Efficiency_WhKm FastCharge_KmH RapidCharge PowerTrain  \\\n",
       "0       450              161            940         Yes        AWD   \n",
       "1       270              167            250         Yes        RWD   \n",
       "2       400              181            620         Yes        AWD   \n",
       "3       360              206            560         Yes        RWD   \n",
       "4       170              168            190         Yes        RWD   \n",
       "\n",
       "     PlugType  BodyStyle Segment  Seats  PriceEuro  \n",
       "0  Type 2 CCS      Sedan       D      5      55480  \n",
       "1  Type 2 CCS  Hatchback       C      5      30000  \n",
       "2  Type 2 CCS   Liftback       D      5      56440  \n",
       "3  Type 2 CCS        SUV       D      5      68040  \n",
       "4  Type 2 CCS  Hatchback       B      4      32997  "
      ]
     },
     "execution_count": 12,
     "metadata": {},
     "output_type": "execute_result"
    }
   ],
   "source": [
    "df.head()"
   ]
  },
  {
   "cell_type": "code",
   "execution_count": 80,
   "metadata": {},
   "outputs": [
    {
     "data": {
      "text/plain": [
       "<matplotlib.collections.PathCollection at 0x148678520>"
      ]
     },
     "execution_count": 80,
     "metadata": {},
     "output_type": "execute_result"
    },
    {
     "data": {
      "image/png": "[encoded data removed]",
      "text/plain": [
       "<Figure size 640x480 with 1 Axes>"
      ]
     },
     "metadata": {},
     "output_type": "display_data"
    }
   ],
   "source": [
    "plt.scatter(y=df['PriceEuro'], x=df['TopSpeed_KmH'])"
   ]
  },
  {
   "cell_type": "code",
   "execution_count": 52,
   "metadata": {},
   "outputs": [],
   "source": [
    "df2 = pd.DataFrame({\n",
    "    'price': df.groupby(['TopSpeed_KmH'])['PriceEuro'].min()\n",
    "    }).reset_index()\n",
    "\n",
    "df3 = pd.DataFrame({\n",
    "    'price': df.groupby(['TopSpeed_KmH'])['PriceEuro'].max()\n",
    "    }).reset_index()"
   ]
  },
  {
   "cell_type": "code",
   "execution_count": 57,
   "metadata": {},
   "outputs": [],
   "source": [
    "con_df = pd.concat([df2, df3]).reset_index(drop=True)"
   ]
  },
  {
   "cell_type": "code",
   "execution_count": 85,
   "metadata": {},
   "outputs": [],
   "source": [
    "short_con_df = con_df.iloc[[1, 0, 31, 47, 49, 23, 17]]"
   ]
  },
  {
   "cell_type": "code",
   "execution_count": 94,
   "metadata": {},
   "outputs": [
    {
     "data": {
      "text/html": [
       "<div>\n",
       "<style scoped>\n",
       "    .dataframe tbody tr th:only-of-type {\n",
       "        vertical-align: middle;\n",
       "    }\n",
       "\n",
       "    .dataframe tbody tr th {\n",
       "        vertical-align: top;\n",
       "    }\n",
       "\n",
       "    .dataframe thead th {\n",
       "        text-align: right;\n",
       "    }\n",
       "</style>\n",
       "<table border=\"1\" class=\"dataframe\">\n",
       "  <thead>\n",
       "    <tr style=\"text-align: right;\">\n",
       "      <th></th>\n",
       "      <th>TopSpeed_KmH</th>\n",
       "      <th>price</th>\n",
       "    </tr>\n",
       "  </thead>\n",
       "  <tbody>\n",
       "    <tr>\n",
       "      <th>0</th>\n",
       "      <td>130</td>\n",
       "      <td>20129</td>\n",
       "    </tr>\n",
       "    <tr>\n",
       "      <th>1</th>\n",
       "      <td>123</td>\n",
       "      <td>33246</td>\n",
       "    </tr>\n",
       "    <tr>\n",
       "      <th>2</th>\n",
       "      <td>150</td>\n",
       "      <td>149000</td>\n",
       "    </tr>\n",
       "    <tr>\n",
       "      <th>3</th>\n",
       "      <td>260</td>\n",
       "      <td>180781</td>\n",
       "    </tr>\n",
       "    <tr>\n",
       "      <th>4</th>\n",
       "      <td>410</td>\n",
       "      <td>215000</td>\n",
       "    </tr>\n",
       "    <tr>\n",
       "      <th>5</th>\n",
       "      <td>261</td>\n",
       "      <td>61480</td>\n",
       "    </tr>\n",
       "    <tr>\n",
       "      <th>6</th>\n",
       "      <td>225</td>\n",
       "      <td>46380</td>\n",
       "    </tr>\n",
       "  </tbody>\n",
       "</table>\n",
       "</div>"
      ],
      "text/plain": [
       "   TopSpeed_KmH   price\n",
       "0           130   20129\n",
       "1           123   33246\n",
       "2           150  149000\n",
       "3           260  180781\n",
       "4           410  215000\n",
       "5           261   61480\n",
       "6           225   46380"
      ]
     },
     "execution_count": 94,
     "metadata": {},
     "output_type": "execute_result"
    }
   ],
   "source": [
    "short_con_df.reset_index(drop=True)"
   ]
  },
  {
   "cell_type": "code",
   "execution_count": 92,
   "metadata": {},
   "outputs": [
    {
     "data": {
      "text/plain": [
       "24396621.0"
      ]
     },
     "execution_count": 92,
     "metadata": {},
     "output_type": "execute_result"
    }
   ],
   "source": [
    "x = short_con_df['TopSpeed_KmH']\n",
    "y = short_con_df['price']\n",
    "area = abs((np.dot(x, np.roll(y, 1)) - np.dot(y, np.roll(x, 1))) / 2)\n",
    "area"
   ]
  },
  {
   "cell_type": "code",
   "execution_count": 96,
   "metadata": {},
   "outputs": [
    {
     "data": {
      "text/plain": [
       "88150000"
      ]
     },
     "execution_count": 96,
     "metadata": {},
     "output_type": "execute_result"
    }
   ],
   "source": [
    "short_con_df['TopSpeed_KmH'].max() * short_con_df['price'].max()"
   ]
  },
  {
   "cell_type": "code",
   "execution_count": 77,
   "metadata": {},
   "outputs": [
    {
     "data": {
      "text/plain": [
       "([<matplotlib.axis.YTick at 0x173c19090>,\n",
       "  <matplotlib.axis.YTick at 0x173c1a320>,\n",
       "  <matplotlib.axis.YTick at 0x173c19900>,\n",
       "  <matplotlib.axis.YTick at 0x1485b51b0>,\n",
       "  <matplotlib.axis.YTick at 0x1485b5c60>,\n",
       "  <matplotlib.axis.YTick at 0x1485b6710>,\n",
       "  <matplotlib.axis.YTick at 0x1485aa7d0>,\n",
       "  <matplotlib.axis.YTick at 0x1485b42b0>,\n",
       "  <matplotlib.axis.YTick at 0x1485b7640>,\n",
       "  <matplotlib.axis.YTick at 0x1485b7d90>,\n",
       "  <matplotlib.axis.YTick at 0x1485c0be0>,\n",
       "  <matplotlib.axis.YTick at 0x1485b55d0>,\n",
       "  <matplotlib.axis.YTick at 0x1485c14e0>,\n",
       "  <matplotlib.axis.YTick at 0x1485c1f90>,\n",
       "  <matplotlib.axis.YTick at 0x1485c2a40>,\n",
       "  <matplotlib.axis.YTick at 0x1485c2b30>,\n",
       "  <matplotlib.axis.YTick at 0x1485c23b0>,\n",
       "  <matplotlib.axis.YTick at 0x1485c3760>,\n",
       "  <matplotlib.axis.YTick at 0x1485c3f40>,\n",
       "  <matplotlib.axis.YTick at 0x1485cc760>,\n",
       "  <matplotlib.axis.YTick at 0x1485ccf40>,\n",
       "  <matplotlib.axis.YTick at 0x1485c1b40>,\n",
       "  <matplotlib.axis.YTick at 0x1485a9ff0>,\n",
       "  <matplotlib.axis.YTick at 0x1485c1ae0>,\n",
       "  <matplotlib.axis.YTick at 0x1485cd4e0>,\n",
       "  <matplotlib.axis.YTick at 0x1485cdcc0>,\n",
       "  <matplotlib.axis.YTick at 0x1485a8490>,\n",
       "  <matplotlib.axis.YTick at 0x1485cd840>,\n",
       "  <matplotlib.axis.YTick at 0x1485ce6e0>,\n",
       "  <matplotlib.axis.YTick at 0x1485ceec0>,\n",
       "  <matplotlib.axis.YTick at 0x1485cf6a0>,\n",
       "  <matplotlib.axis.YTick at 0x1485cfe80>,\n",
       "  <matplotlib.axis.YTick at 0x1485cf160>,\n",
       "  <matplotlib.axis.YTick at 0x1485cff40>,\n",
       "  <matplotlib.axis.YTick at 0x1485f4850>,\n",
       "  <matplotlib.axis.YTick at 0x1485f5030>,\n",
       "  <matplotlib.axis.YTick at 0x1485f5810>,\n",
       "  <matplotlib.axis.YTick at 0x1485b6a70>,\n",
       "  <matplotlib.axis.YTick at 0x1485f46d0>,\n",
       "  <matplotlib.axis.YTick at 0x1485f61a0>],\n",
       " [Text(0, 15000, '15000'),\n",
       "  Text(0, 20000, '20000'),\n",
       "  Text(0, 25000, '25000'),\n",
       "  Text(0, 30000, '30000'),\n",
       "  Text(0, 35000, '35000'),\n",
       "  Text(0, 40000, '40000'),\n",
       "  Text(0, 45000, '45000'),\n",
       "  Text(0, 50000, '50000'),\n",
       "  Text(0, 55000, '55000'),\n",
       "  Text(0, 60000, '60000'),\n",
       "  Text(0, 65000, '65000'),\n",
       "  Text(0, 70000, '70000'),\n",
       "  Text(0, 75000, '75000'),\n",
       "  Text(0, 80000, '80000'),\n",
       "  Text(0, 85000, '85000'),\n",
       "  Text(0, 90000, '90000'),\n",
       "  Text(0, 95000, '95000'),\n",
       "  Text(0, 100000, '100000'),\n",
       "  Text(0, 105000, '105000'),\n",
       "  Text(0, 110000, '110000'),\n",
       "  Text(0, 115000, '115000'),\n",
       "  Text(0, 120000, '120000'),\n",
       "  Text(0, 125000, '125000'),\n",
       "  Text(0, 130000, '130000'),\n",
       "  Text(0, 135000, '135000'),\n",
       "  Text(0, 140000, '140000'),\n",
       "  Text(0, 145000, '145000'),\n",
       "  Text(0, 150000, '150000'),\n",
       "  Text(0, 155000, '155000'),\n",
       "  Text(0, 160000, '160000'),\n",
       "  Text(0, 165000, '165000'),\n",
       "  Text(0, 170000, '170000'),\n",
       "  Text(0, 175000, '175000'),\n",
       "  Text(0, 180000, '180000'),\n",
       "  Text(0, 185000, '185000'),\n",
       "  Text(0, 190000, '190000'),\n",
       "  Text(0, 195000, '195000'),\n",
       "  Text(0, 200000, '200000'),\n",
       "  Text(0, 205000, '205000'),\n",
       "  Text(0, 210000, '210000')])"
      ]
     },
     "execution_count": 77,
     "metadata": {},
     "output_type": "execute_result"
    },
    {
     "data": {
      "image/png": "[encoded data removed]",
      "text/plain": [
       "<Figure size 640x480 with 1 Axes>"
      ]
     },
     "metadata": {},
     "output_type": "display_data"
    }
   ],
   "source": [
    "import numpy as np\n",
    "\n",
    "plt.scatter(y=con_df['price'], x=con_df['TopSpeed_KmH'])\n",
    "plt.xticks(np.arange(100, max(con_df['TopSpeed_KmH']), 5), fontsize=5, rotation=90)\n",
    "plt.yticks(np.arange(15000, max(con_df['price']), 5000), fontsize=5)"
   ]
  },
  {
   "cell_type": "code",
   "execution_count": 97,
   "metadata": {},
   "outputs": [],
   "source": [
    "from sklearn.preprocessing import LabelEncoder\n",
    "\n",
    "le = LabelEncoder()"
   ]
  },
  {
   "cell_type": "code",
   "execution_count": 103,
   "metadata": {},
   "outputs": [],
   "source": [
    "le_transformed = le.fit_transform(df['BodyStyle'])\n",
    "sum_ = le_transformed.sum()\n",
    "cat_count = len(np.unique(le_transformed))"
   ]
  },
  {
   "cell_type": "code",
   "execution_count": 104,
   "metadata": {},
   "outputs": [
    {
     "data": {
      "text/plain": [
       "(420, 9)"
      ]
     },
     "execution_count": 104,
     "metadata": {},
     "output_type": "execute_result"
    }
   ],
   "source": [
    "sum_, cat_count"
   ]
  }
 ],
 "metadata": {
  "kernelspec": {
   "display_name": "base",
   "language": "python",
   "name": "python3"
  },
  "language_info": {
   "codemirror_mode": {
    "name": "ipython",
    "version": 3
   },
   "file_extension": ".py",
   "mimetype": "text/x-python",
   "name": "python",
   "nbconvert_exporter": "python",
   "pygments_lexer": "ipython3",
   "version": "3.10.9"
  }
 },
 "nbformat": 4,
 "nbformat_minor": 2
}
