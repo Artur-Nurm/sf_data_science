{
 "cells": [
  {
   "cell_type": "code",
   "execution_count": 148,
   "metadata": {},
   "outputs": [],
   "source": [
    "import numpy as np\n",
    "import pandas as pd\n",
    "import matplotlib.pyplot as plt"
   ]
  },
  {
   "cell_type": "markdown",
   "metadata": {},
   "source": [
    "# Advanced ML \\ Sem_1 \\ Mod_1 \\ Task_5.2"
   ]
  },
  {
   "cell_type": "markdown",
   "metadata": {},
   "source": [
    "#### Task_1"
   ]
  },
  {
   "cell_type": "code",
   "execution_count": 82,
   "metadata": {},
   "outputs": [],
   "source": [
    "def mnk(x_,y_):\n",
    "    param_A = np.vstack([x_, np.ones(len(x_))]).T\n",
    "    a, b = np.linalg.lstsq(param_A, y_, rcond=None)[0]\n",
    "    return a,b"
   ]
  },
  {
   "cell_type": "code",
   "execution_count": 83,
   "metadata": {},
   "outputs": [],
   "source": [
    "def mnk2(x_,y_):\n",
    "    n = len(x_)\n",
    "    mx = x_.sum()/n\n",
    "    my = y_.sum()/n\n",
    "    a2 = np.dot(x_.T, x_)/n\n",
    "    a11 = np.dot(x_.T, y_)/n\n",
    "    a_ = (a11 - mx * my) / (a2 - mx ** 2)\n",
    "    b_ = my - a_ * mx\n",
    "    return a_, b_"
   ]
  },
  {
   "cell_type": "code",
   "execution_count": 84,
   "metadata": {},
   "outputs": [],
   "source": [
    "x = np.linspace(0, 10, 30)\n",
    "y = np.linspace(0, 10, 30)*(10+4*np.random.rand(30)) + (10+4*np.random.rand(30))\n",
    "\n",
    "a,b = mnk(x,y)"
   ]
  },
  {
   "cell_type": "code",
   "execution_count": 85,
   "metadata": {},
   "outputs": [
    {
     "data": {
      "image/png": "[encoded data removed]",
      "text/plain": [
       "<Figure size 640x480 with 1 Axes>"
      ]
     },
     "metadata": {},
     "output_type": "display_data"
    }
   ],
   "source": [
    "_ = plt.plot(x, y, 'o', label='Original data', markersize=10)\n",
    "_ = plt.plot(x, a*x + b, 'r', label='Fitted line')\n",
    "_ = plt.legend()\n",
    "plt.show()"
   ]
  },
  {
   "cell_type": "markdown",
   "metadata": {},
   "source": [
    "#### Task_2"
   ]
  },
  {
   "cell_type": "code",
   "execution_count": 136,
   "metadata": {},
   "outputs": [],
   "source": [
    "df = pd.DataFrame({\n",
    "    'name': ['Petr', 'Anna', 'Ivan', 'Maria', 'Natasha', 'Alexey', 'Nina', 'Maria'],\n",
    "    'city': ['Moscow', 'Novosibirsk', np.nan, 'Samara', 'Vladivostok', 'Sochi', 'Irkutsk', 'Samara'],\n",
    "    'age': [41.0, 28.0, 31.0, 34.0, np.nan, 31.0, 0.0, 34.0]\n",
    "    })"
   ]
  },
  {
   "cell_type": "code",
   "execution_count": 138,
   "metadata": {},
   "outputs": [
    {
     "name": "stdout",
     "output_type": "stream",
     "text": [
      "     name         city   age\n",
      "0    Petr       Moscow  41.0\n",
      "1    Anna  Novosibirsk  28.0\n",
      "3   Maria       Samara  34.0\n",
      "5  Alexey        Sochi  31.0\n",
      "6    Nina      Irkutsk  33.5 33.5\n"
     ]
    }
   ],
   "source": [
    "df.dropna(inplace=True)\n",
    "df.drop_duplicates(inplace=True)\n",
    "df[\"age\"].replace(0, df[df['age'] > 0][\"age\"].mean(), inplace = True)\n",
    "print(df, df['age'].mean())"
   ]
  },
  {
   "cell_type": "markdown",
   "metadata": {},
   "source": [
    "#### Task_3"
   ]
  },
  {
   "cell_type": "code",
   "execution_count": 139,
   "metadata": {},
   "outputs": [],
   "source": [
    "cars_data = pd.read_csv('Electric_Car.csv')\n",
    "cars = pd.DataFrame(cars_data)"
   ]
  },
  {
   "cell_type": "code",
   "execution_count": 149,
   "metadata": {},
   "outputs": [
    {
     "name": "stdout",
     "output_type": "stream",
     "text": [
      "<class 'pandas.core.frame.DataFrame'>\n",
      "RangeIndex: 103 entries, 0 to 102\n",
      "Data columns (total 14 columns):\n",
      " #   Column           Non-Null Count  Dtype  \n",
      "---  ------           --------------  -----  \n",
      " 0   Brand            103 non-null    object \n",
      " 1   Model            103 non-null    object \n",
      " 2   AccelSec         103 non-null    float64\n",
      " 3   TopSpeed_KmH     103 non-null    int64  \n",
      " 4   Range_Km         103 non-null    int64  \n",
      " 5   Efficiency_WhKm  103 non-null    int64  \n",
      " 6   FastCharge_KmH   103 non-null    object \n",
      " 7   RapidCharge      103 non-null    object \n",
      " 8   PowerTrain       103 non-null    object \n",
      " 9   PlugType         103 non-null    object \n",
      " 10  BodyStyle        103 non-null    object \n",
      " 11  Segment          103 non-null    object \n",
      " 12  Seats            103 non-null    int64  \n",
      " 13  PriceEuro        103 non-null    int64  \n",
      "dtypes: float64(1), int64(5), object(8)\n",
      "memory usage: 11.4+ KB\n"
     ]
    }
   ],
   "source": [
    "cars.info()"
   ]
  },
  {
   "cell_type": "code",
   "execution_count": 147,
   "metadata": {},
   "outputs": [
    {
     "name": "stderr",
     "output_type": "stream",
     "text": [
      "/var/folders/mn/dbx4zk2j6jn7r75_nv1cm6980000gq/T/ipykernel_78533/3692914315.py:1: FutureWarning: The default value of numeric_only in DataFrameGroupBy.mean is deprecated. In a future version, numeric_only will default to False. Either specify numeric_only or select only columns which should be valid for the function.\n",
      "  Carsgroupby = cars.groupby('Brand').mean()\n"
     ]
    },
    {
     "data": {
      "text/plain": [
       "1706238.541025641"
      ]
     },
     "execution_count": 147,
     "metadata": {},
     "output_type": "execute_result"
    }
   ],
   "source": [
    "Carsgroupby = cars.groupby('Brand').mean()\n",
    "Carsgroupby['PriceEuro'].sum()"
   ]
  },
  {
   "cell_type": "markdown",
   "metadata": {},
   "source": [
    "#### Task_4"
   ]
  },
  {
   "cell_type": "code",
   "execution_count": 154,
   "metadata": {},
   "outputs": [
    {
     "data": {
      "text/html": [
       "<div>\n",
       "<style scoped>\n",
       "    .dataframe tbody tr th:only-of-type {\n",
       "        vertical-align: middle;\n",
       "    }\n",
       "\n",
       "    .dataframe tbody tr th {\n",
       "        vertical-align: top;\n",
       "    }\n",
       "\n",
       "    .dataframe thead th {\n",
       "        text-align: right;\n",
       "    }\n",
       "</style>\n",
       "<table border=\"1\" class=\"dataframe\">\n",
       "  <thead>\n",
       "    <tr style=\"text-align: right;\">\n",
       "      <th></th>\n",
       "      <th>index</th>\n",
       "      <th>Brand</th>\n",
       "      <th>Model</th>\n",
       "      <th>AccelSec</th>\n",
       "      <th>TopSpeed_KmH</th>\n",
       "      <th>Range_Km</th>\n",
       "      <th>Efficiency_WhKm</th>\n",
       "      <th>FastCharge_KmH</th>\n",
       "      <th>RapidCharge</th>\n",
       "      <th>PowerTrain</th>\n",
       "      <th>PlugType</th>\n",
       "      <th>BodyStyle</th>\n",
       "      <th>Segment</th>\n",
       "      <th>Seats</th>\n",
       "      <th>PriceEuro</th>\n",
       "    </tr>\n",
       "  </thead>\n",
       "  <tbody>\n",
       "    <tr>\n",
       "      <th>0</th>\n",
       "      <td>0</td>\n",
       "      <td>Tesla</td>\n",
       "      <td>Model 3 Long Range Dual Motor</td>\n",
       "      <td>4.6</td>\n",
       "      <td>233</td>\n",
       "      <td>450</td>\n",
       "      <td>161</td>\n",
       "      <td>940</td>\n",
       "      <td>Yes</td>\n",
       "      <td>AWD</td>\n",
       "      <td>Type 2 CCS</td>\n",
       "      <td>Sedan</td>\n",
       "      <td>D</td>\n",
       "      <td>5</td>\n",
       "      <td>55480</td>\n",
       "    </tr>\n",
       "    <tr>\n",
       "      <th>1</th>\n",
       "      <td>2</td>\n",
       "      <td>Polestar</td>\n",
       "      <td>2</td>\n",
       "      <td>4.7</td>\n",
       "      <td>210</td>\n",
       "      <td>400</td>\n",
       "      <td>181</td>\n",
       "      <td>620</td>\n",
       "      <td>Yes</td>\n",
       "      <td>AWD</td>\n",
       "      <td>Type 2 CCS</td>\n",
       "      <td>Liftback</td>\n",
       "      <td>D</td>\n",
       "      <td>5</td>\n",
       "      <td>56440</td>\n",
       "    </tr>\n",
       "    <tr>\n",
       "      <th>2</th>\n",
       "      <td>5</td>\n",
       "      <td>Lucid</td>\n",
       "      <td>Air</td>\n",
       "      <td>2.8</td>\n",
       "      <td>250</td>\n",
       "      <td>610</td>\n",
       "      <td>180</td>\n",
       "      <td>620</td>\n",
       "      <td>Yes</td>\n",
       "      <td>AWD</td>\n",
       "      <td>Type 2 CCS</td>\n",
       "      <td>Sedan</td>\n",
       "      <td>F</td>\n",
       "      <td>5</td>\n",
       "      <td>105000</td>\n",
       "    </tr>\n",
       "    <tr>\n",
       "      <th>3</th>\n",
       "      <td>16</td>\n",
       "      <td>Porsche</td>\n",
       "      <td>Taycan Turbo S</td>\n",
       "      <td>2.8</td>\n",
       "      <td>260</td>\n",
       "      <td>375</td>\n",
       "      <td>223</td>\n",
       "      <td>780</td>\n",
       "      <td>Yes</td>\n",
       "      <td>AWD</td>\n",
       "      <td>Type 2 CCS</td>\n",
       "      <td>Sedan</td>\n",
       "      <td>F</td>\n",
       "      <td>4</td>\n",
       "      <td>180781</td>\n",
       "    </tr>\n",
       "    <tr>\n",
       "      <th>4</th>\n",
       "      <td>21</td>\n",
       "      <td>Tesla</td>\n",
       "      <td>Model Y Long Range Dual Motor</td>\n",
       "      <td>5.1</td>\n",
       "      <td>217</td>\n",
       "      <td>425</td>\n",
       "      <td>171</td>\n",
       "      <td>930</td>\n",
       "      <td>Yes</td>\n",
       "      <td>AWD</td>\n",
       "      <td>Type 2 CCS</td>\n",
       "      <td>SUV</td>\n",
       "      <td>D</td>\n",
       "      <td>7</td>\n",
       "      <td>58620</td>\n",
       "    </tr>\n",
       "  </tbody>\n",
       "</table>\n",
       "</div>"
      ],
      "text/plain": [
       "   index      Brand                          Model  AccelSec  TopSpeed_KmH  \\\n",
       "0      0     Tesla   Model 3 Long Range Dual Motor       4.6           233   \n",
       "1      2  Polestar                               2       4.7           210   \n",
       "2      5     Lucid                            Air        2.8           250   \n",
       "3     16   Porsche                  Taycan Turbo S       2.8           260   \n",
       "4     21     Tesla   Model Y Long Range Dual Motor       5.1           217   \n",
       "\n",
       "   Range_Km  Efficiency_WhKm FastCharge_KmH RapidCharge PowerTrain  \\\n",
       "0       450              161            940         Yes        AWD   \n",
       "1       400              181            620         Yes        AWD   \n",
       "2       610              180            620         Yes        AWD   \n",
       "3       375              223            780         Yes        AWD   \n",
       "4       425              171            930         Yes        AWD   \n",
       "\n",
       "     PlugType BodyStyle Segment  Seats  PriceEuro  \n",
       "0  Type 2 CCS     Sedan       D      5      55480  \n",
       "1  Type 2 CCS  Liftback       D      5      56440  \n",
       "2  Type 2 CCS     Sedan       F      5     105000  \n",
       "3  Type 2 CCS     Sedan       F      4     180781  \n",
       "4  Type 2 CCS       SUV       D      7      58620  "
      ]
     },
     "execution_count": 154,
     "metadata": {},
     "output_type": "execute_result"
    }
   ],
   "source": [
    "Cars_speed = cars[(cars['PriceEuro'] > 50000) & (cars['TopSpeed_KmH'] > 200)]\n",
    "Cars_speed.reset_index(inplace=True)\n",
    "Cars_speed.head()"
   ]
  },
  {
   "cell_type": "markdown",
   "metadata": {},
   "source": [
    "#### Task_4"
   ]
  },
  {
   "cell_type": "code",
   "execution_count": 155,
   "metadata": {},
   "outputs": [],
   "source": [
    "ec_data = pd.read_csv('EC.csv')\n",
    "evp_data = pd.read_csv('EVP.csv')\n",
    "\n",
    "ec = pd.DataFrame(ec_data)\n",
    "evp = pd.DataFrame(evp_data)"
   ]
  },
  {
   "cell_type": "code",
   "execution_count": 161,
   "metadata": {},
   "outputs": [],
   "source": [
    "integral = evp.merge(ec, on='Brand', how='left')\n",
    "describe_pd = integral.describe()"
   ]
  },
  {
   "cell_type": "code",
   "execution_count": null,
   "metadata": {},
   "outputs": [],
   "source": []
  }
 ],
 "metadata": {
  "kernelspec": {
   "display_name": "base",
   "language": "python",
   "name": "python3"
  },
  "language_info": {
   "codemirror_mode": {
    "name": "ipython",
    "version": 3
   },
   "file_extension": ".py",
   "mimetype": "text/x-python",
   "name": "python",
   "nbconvert_exporter": "python",
   "pygments_lexer": "ipython3",
   "version": "3.10.9"
  }
 },
 "nbformat": 4,
 "nbformat_minor": 2
}
